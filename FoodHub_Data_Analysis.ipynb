{
 "cells": [
  {
   "cell_type": "markdown",
   "metadata": {
    "id": "Gc8x8QimJY_H"
   },
   "source": [
    "# Project Python Foundations: FoodHub Data Analysis\n"
   ]
  },
  {
   "cell_type": "markdown",
   "metadata": {
    "id": "NqikjkWwJY_L"
   },
   "source": [
    "### Context\n",
    "\n",
    "The number of restaurants in New York is increasing day by day. Lots of students and busy professionals rely on those restaurants due to their hectic lifestyles. Online food delivery service is a great option for them. It provides them with good food from their favorite restaurants. A food aggregator company FoodHub offers access to multiple restaurants through a single smartphone app.\n",
    "\n",
    "The app allows the restaurants to receive a direct online order from a customer. The app assigns a delivery person from the company to pick up the order after it is confirmed by the restaurant. The delivery person then uses the map to reach the restaurant and waits for the food package. Once the food package is handed over to the delivery person, he/she confirms the pick-up in the app and travels to the customer's location to deliver the food. The delivery person confirms the drop-off in the app after delivering the food package to the customer. The customer can rate the order in the app. The food aggregator earns money by collecting a fixed margin of the delivery order from the restaurants.\n",
    "\n",
    "### Objective\n",
    "\n",
    "The food aggregator company has stored the data of the different orders made by the registered customers in their online portal. They want to analyze the data to get a fair idea about the demand of different restaurants which will help them in enhancing their customer experience. Suppose you are hired as a Data Scientist in this company and the Data Science team has shared some of the key questions that need to be answered. Perform the data analysis to find answers to these questions that will help the company to improve the business. \n",
    "\n",
    "### Data Description\n",
    "\n",
    "The data contains the different data related to a food order. The detailed data dictionary is given below.\n",
    "\n",
    "### Data Dictionary\n",
    "\n",
    "* order_id: Unique ID of the order\n",
    "* customer_id: ID of the customer who ordered the food\n",
    "* restaurant_name: Name of the restaurant\n",
    "* cuisine_type: Cuisine ordered by the customer\n",
    "* cost: Cost of the order\n",
    "* day_of_the_week: Indicates whether the order is placed on a weekday or weekend (The weekday is from Monday to Friday and the weekend is Saturday and Sunday)\n",
    "* rating: Rating given by the customer out of 5\n",
    "* food_preparation_time: Time (in minutes) taken by the restaurant to prepare the food. This is calculated by taking the difference between the timestamps of the restaurant's order confirmation and the delivery person's pick-up confirmation.\n",
    "* delivery_time: Time (in minutes) taken by the delivery person to deliver the food package. This is calculated by taking the difference between the timestamps of the delivery person's pick-up confirmation and drop-off information"
   ]
  },
  {
   "cell_type": "markdown",
   "metadata": {
    "id": "cEtNUxNAJY_M"
   },
   "source": [
    "### Let us start by importing the required libraries"
   ]
  },
  {
   "cell_type": "code",
   "execution_count": 1,
   "metadata": {
    "id": "u6PlpJAPJY_N"
   },
   "outputs": [],
   "source": [
    "# import libraries for data manipulation\n",
    "import numpy as np\n",
    "import pandas as pd\n",
    "\n",
    "# import libraries for data visualization\n",
    "import matplotlib.pyplot as plt\n",
    "import seaborn as sns\n",
    "\n",
    "# ensuring the requested graphs are shown\n",
    "%matplotlib inline  \n",
    "\n",
    "# to restrict the float value to 2 decimal places\n",
    "pd.set_option('display.float_format', lambda x: '%.2f' % x)"
   ]
  },
  {
   "cell_type": "markdown",
   "metadata": {
    "id": "AdracY0HJY_O"
   },
   "source": [
    "### Understanding the structure of the data"
   ]
  },
  {
   "cell_type": "code",
   "execution_count": 2,
   "metadata": {
    "colab": {
     "base_uri": "https://localhost:8080/"
    },
    "id": "WBh2ZGB9kFhU",
    "outputId": "08cd183e-63e7-4198-d9dd-6a9abef85742"
   },
   "outputs": [
    {
     "name": "stdout",
     "output_type": "stream",
     "text": [
      "Drive already mounted at /content/drive; to attempt to forcibly remount, call drive.mount(\"/content/drive\", force_remount=True).\n"
     ]
    }
   ],
   "source": [
    "from google.colab import drive\n",
    "drive.mount('/content/drive')"
   ]
  },
  {
   "cell_type": "code",
   "execution_count": 3,
   "metadata": {
    "colab": {
     "base_uri": "https://localhost:8080/",
     "height": 302
    },
    "id": "GF01IZDbJY_O",
    "outputId": "5dbd40ae-ba61-44fe-e391-2a70193ad1eb",
    "scrolled": true
   },
   "outputs": [
    {
     "data": {
      "text/html": [
       "\n",
       "  <div id=\"df-032a431d-b1a0-4bde-a0a1-62be00145eeb\">\n",
       "    <div class=\"colab-df-container\">\n",
       "      <div>\n",
       "<style scoped>\n",
       "    .dataframe tbody tr th:only-of-type {\n",
       "        vertical-align: middle;\n",
       "    }\n",
       "\n",
       "    .dataframe tbody tr th {\n",
       "        vertical-align: top;\n",
       "    }\n",
       "\n",
       "    .dataframe thead th {\n",
       "        text-align: right;\n",
       "    }\n",
       "</style>\n",
       "<table border=\"1\" class=\"dataframe\">\n",
       "  <thead>\n",
       "    <tr style=\"text-align: right;\">\n",
       "      <th></th>\n",
       "      <th>order_id</th>\n",
       "      <th>customer_id</th>\n",
       "      <th>restaurant_name</th>\n",
       "      <th>cuisine_type</th>\n",
       "      <th>cost_of_the_order</th>\n",
       "      <th>day_of_the_week</th>\n",
       "      <th>rating</th>\n",
       "      <th>food_preparation_time</th>\n",
       "      <th>delivery_time</th>\n",
       "    </tr>\n",
       "  </thead>\n",
       "  <tbody>\n",
       "    <tr>\n",
       "      <th>0</th>\n",
       "      <td>1477147</td>\n",
       "      <td>337525</td>\n",
       "      <td>Hangawi</td>\n",
       "      <td>Korean</td>\n",
       "      <td>30.75</td>\n",
       "      <td>Weekend</td>\n",
       "      <td>Not given</td>\n",
       "      <td>25</td>\n",
       "      <td>20</td>\n",
       "    </tr>\n",
       "    <tr>\n",
       "      <th>1</th>\n",
       "      <td>1477685</td>\n",
       "      <td>358141</td>\n",
       "      <td>Blue Ribbon Sushi Izakaya</td>\n",
       "      <td>Japanese</td>\n",
       "      <td>12.08</td>\n",
       "      <td>Weekend</td>\n",
       "      <td>Not given</td>\n",
       "      <td>25</td>\n",
       "      <td>23</td>\n",
       "    </tr>\n",
       "    <tr>\n",
       "      <th>2</th>\n",
       "      <td>1477070</td>\n",
       "      <td>66393</td>\n",
       "      <td>Cafe Habana</td>\n",
       "      <td>Mexican</td>\n",
       "      <td>12.23</td>\n",
       "      <td>Weekday</td>\n",
       "      <td>5</td>\n",
       "      <td>23</td>\n",
       "      <td>28</td>\n",
       "    </tr>\n",
       "    <tr>\n",
       "      <th>3</th>\n",
       "      <td>1477334</td>\n",
       "      <td>106968</td>\n",
       "      <td>Blue Ribbon Fried Chicken</td>\n",
       "      <td>American</td>\n",
       "      <td>29.20</td>\n",
       "      <td>Weekend</td>\n",
       "      <td>3</td>\n",
       "      <td>25</td>\n",
       "      <td>15</td>\n",
       "    </tr>\n",
       "    <tr>\n",
       "      <th>4</th>\n",
       "      <td>1478249</td>\n",
       "      <td>76942</td>\n",
       "      <td>Dirty Bird to Go</td>\n",
       "      <td>American</td>\n",
       "      <td>11.59</td>\n",
       "      <td>Weekday</td>\n",
       "      <td>4</td>\n",
       "      <td>25</td>\n",
       "      <td>24</td>\n",
       "    </tr>\n",
       "  </tbody>\n",
       "</table>\n",
       "</div>\n",
       "      <button class=\"colab-df-convert\" onclick=\"convertToInteractive('df-032a431d-b1a0-4bde-a0a1-62be00145eeb')\"\n",
       "              title=\"Convert this dataframe to an interactive table.\"\n",
       "              style=\"display:none;\">\n",
       "        \n",
       "  <svg xmlns=\"http://www.w3.org/2000/svg\" height=\"24px\"viewBox=\"0 0 24 24\"\n",
       "       width=\"24px\">\n",
       "    <path d=\"M0 0h24v24H0V0z\" fill=\"none\"/>\n",
       "    <path d=\"M18.56 5.44l.94 2.06.94-2.06 2.06-.94-2.06-.94-.94-2.06-.94 2.06-2.06.94zm-11 1L8.5 8.5l.94-2.06 2.06-.94-2.06-.94L8.5 2.5l-.94 2.06-2.06.94zm10 10l.94 2.06.94-2.06 2.06-.94-2.06-.94-.94-2.06-.94 2.06-2.06.94z\"/><path d=\"M17.41 7.96l-1.37-1.37c-.4-.4-.92-.59-1.43-.59-.52 0-1.04.2-1.43.59L10.3 9.45l-7.72 7.72c-.78.78-.78 2.05 0 2.83L4 21.41c.39.39.9.59 1.41.59.51 0 1.02-.2 1.41-.59l7.78-7.78 2.81-2.81c.8-.78.8-2.07 0-2.86zM5.41 20L4 18.59l7.72-7.72 1.47 1.35L5.41 20z\"/>\n",
       "  </svg>\n",
       "      </button>\n",
       "      \n",
       "  <style>\n",
       "    .colab-df-container {\n",
       "      display:flex;\n",
       "      flex-wrap:wrap;\n",
       "      gap: 12px;\n",
       "    }\n",
       "\n",
       "    .colab-df-convert {\n",
       "      background-color: #E8F0FE;\n",
       "      border: none;\n",
       "      border-radius: 50%;\n",
       "      cursor: pointer;\n",
       "      display: none;\n",
       "      fill: #1967D2;\n",
       "      height: 32px;\n",
       "      padding: 0 0 0 0;\n",
       "      width: 32px;\n",
       "    }\n",
       "\n",
       "    .colab-df-convert:hover {\n",
       "      background-color: #E2EBFA;\n",
       "      box-shadow: 0px 1px 2px rgba(60, 64, 67, 0.3), 0px 1px 3px 1px rgba(60, 64, 67, 0.15);\n",
       "      fill: #174EA6;\n",
       "    }\n",
       "\n",
       "    [theme=dark] .colab-df-convert {\n",
       "      background-color: #3B4455;\n",
       "      fill: #D2E3FC;\n",
       "    }\n",
       "\n",
       "    [theme=dark] .colab-df-convert:hover {\n",
       "      background-color: #434B5C;\n",
       "      box-shadow: 0px 1px 3px 1px rgba(0, 0, 0, 0.15);\n",
       "      filter: drop-shadow(0px 1px 2px rgba(0, 0, 0, 0.3));\n",
       "      fill: #FFFFFF;\n",
       "    }\n",
       "  </style>\n",
       "\n",
       "      <script>\n",
       "        const buttonEl =\n",
       "          document.querySelector('#df-032a431d-b1a0-4bde-a0a1-62be00145eeb button.colab-df-convert');\n",
       "        buttonEl.style.display =\n",
       "          google.colab.kernel.accessAllowed ? 'block' : 'none';\n",
       "\n",
       "        async function convertToInteractive(key) {\n",
       "          const element = document.querySelector('#df-032a431d-b1a0-4bde-a0a1-62be00145eeb');\n",
       "          const dataTable =\n",
       "            await google.colab.kernel.invokeFunction('convertToInteractive',\n",
       "                                                     [key], {});\n",
       "          if (!dataTable) return;\n",
       "\n",
       "          const docLinkHtml = 'Like what you see? Visit the ' +\n",
       "            '<a target=\"_blank\" href=https://colab.research.google.com/notebooks/data_table.ipynb>data table notebook</a>'\n",
       "            + ' to learn more about interactive tables.';\n",
       "          element.innerHTML = '';\n",
       "          dataTable['output_type'] = 'display_data';\n",
       "          await google.colab.output.renderOutput(dataTable, element);\n",
       "          const docLink = document.createElement('div');\n",
       "          docLink.innerHTML = docLinkHtml;\n",
       "          element.appendChild(docLink);\n",
       "        }\n",
       "      </script>\n",
       "    </div>\n",
       "  </div>\n",
       "  "
      ],
      "text/plain": [
       "   order_id  customer_id            restaurant_name cuisine_type  \\\n",
       "0   1477147       337525                    Hangawi       Korean   \n",
       "1   1477685       358141  Blue Ribbon Sushi Izakaya     Japanese   \n",
       "2   1477070        66393                Cafe Habana      Mexican   \n",
       "3   1477334       106968  Blue Ribbon Fried Chicken     American   \n",
       "4   1478249        76942           Dirty Bird to Go     American   \n",
       "\n",
       "   cost_of_the_order day_of_the_week     rating  food_preparation_time  \\\n",
       "0              30.75         Weekend  Not given                     25   \n",
       "1              12.08         Weekend  Not given                     25   \n",
       "2              12.23         Weekday          5                     23   \n",
       "3              29.20         Weekend          3                     25   \n",
       "4              11.59         Weekday          4                     25   \n",
       "\n",
       "   delivery_time  \n",
       "0             20  \n",
       "1             23  \n",
       "2             28  \n",
       "3             15  \n",
       "4             24  "
      ]
     },
     "execution_count": 3,
     "metadata": {},
     "output_type": "execute_result"
    }
   ],
   "source": [
    "# read the data\n",
    "data_orig = pd.read_csv('/content/drive/MyDrive/Python_files/foodhub_order.csv')\n",
    "# ensuring the original dataset remains unchanged\n",
    "df = data_orig.copy()\n",
    "# returns the first 5 rows\n",
    "df.head()"
   ]
  },
  {
   "cell_type": "markdown",
   "metadata": {
    "id": "J_Y9aJDJJY_P"
   },
   "source": [
    "#### Observations:\n",
    "\n",
    "The DataFrame has 9 columns as mentioned in the Data Dictionary. Data in each row corresponds to a single order placed by a customer."
   ]
  },
  {
   "cell_type": "markdown",
   "metadata": {
    "id": "c3kenV4vJY_Q"
   },
   "source": [
    "### **Question 1:** How many rows and columns are present in the data? [0.5 mark]"
   ]
  },
  {
   "cell_type": "code",
   "execution_count": 4,
   "metadata": {
    "colab": {
     "base_uri": "https://localhost:8080/"
    },
    "id": "Yvz5i-PhJY_Q",
    "outputId": "cf080ecf-c4c3-4953-8dab-ca0c50fada06"
   },
   "outputs": [
    {
     "name": "stdout",
     "output_type": "stream",
     "text": [
      "The FoodHub's data set has 1898 rows and 9 columns.\n"
     ]
    }
   ],
   "source": [
    "# Printing the number of rows and columns in df\n",
    "print(\"The FoodHub\\'s data set has\", df.shape[0], \"rows and\", df.shape[1], \"columns.\")"
   ]
  },
  {
   "cell_type": "markdown",
   "metadata": {
    "id": "UsTNy3unJY_R"
   },
   "source": [
    "#### Observations: The dataset has 1898 rows and 9 columns.\n"
   ]
  },
  {
   "cell_type": "markdown",
   "metadata": {
    "id": "jRXakVrUJY_R"
   },
   "source": [
    "### **Question 2:** What are the datatypes of the different columns in the dataset? (The info() function can be used) [0.5 mark]"
   ]
  },
  {
   "cell_type": "code",
   "execution_count": 5,
   "metadata": {
    "colab": {
     "base_uri": "https://localhost:8080/"
    },
    "id": "Kp70Z0BNJY_R",
    "outputId": "e6d884c4-7f58-456f-e1e3-bef3dd3c27dd"
   },
   "outputs": [
    {
     "name": "stdout",
     "output_type": "stream",
     "text": [
      "<class 'pandas.core.frame.DataFrame'>\n",
      "RangeIndex: 1898 entries, 0 to 1897\n",
      "Data columns (total 9 columns):\n",
      " #   Column                 Non-Null Count  Dtype  \n",
      "---  ------                 --------------  -----  \n",
      " 0   order_id               1898 non-null   int64  \n",
      " 1   customer_id            1898 non-null   int64  \n",
      " 2   restaurant_name        1898 non-null   object \n",
      " 3   cuisine_type           1898 non-null   object \n",
      " 4   cost_of_the_order      1898 non-null   float64\n",
      " 5   day_of_the_week        1898 non-null   object \n",
      " 6   rating                 1898 non-null   object \n",
      " 7   food_preparation_time  1898 non-null   int64  \n",
      " 8   delivery_time          1898 non-null   int64  \n",
      "dtypes: float64(1), int64(4), object(4)\n",
      "memory usage: 133.6+ KB\n"
     ]
    }
   ],
   "source": [
    "# Displaying the type and general info on each column\n",
    "df.info()"
   ]
  },
  {
   "cell_type": "markdown",
   "metadata": {
    "id": "WJes5GP2JY_S"
   },
   "source": [
    "#### Observations:\n",
    "\n",
    "*   The datatype of order_id, customer_id, food_preparation_time and delivery_time is expectedly integer.\n",
    "*   The datatype of restaurant_name, cuisine_type and day_of_the_week is object (string), as one would have anticipated.\n",
    "*   cost_of_the_order, reasonably, is in float.\n",
    "*   No null value has been reported for any of the columns, but the datatype of rating is object (string), which is suspicious, as one would've expected to be float or integer. This will be inspected in the next steps.\n",
    "\n",
    "\n",
    "\n",
    "\n"
   ]
  },
  {
   "cell_type": "markdown",
   "metadata": {
    "id": "pF_92MN6JY_S"
   },
   "source": [
    "### **Question 3:** Are there any missing values in the data? If yes, treat them using an appropriate method. [1 mark]"
   ]
  },
  {
   "cell_type": "code",
   "execution_count": 6,
   "metadata": {
    "colab": {
     "base_uri": "https://localhost:8080/"
    },
    "id": "Zth-RR1PJY_S",
    "outputId": "eda61fe8-9eab-4d6e-9ec4-ba56a131bcbf"
   },
   "outputs": [
    {
     "name": "stdout",
     "output_type": "stream",
     "text": [
      "Null values across different columns:\n",
      "order_id                 0\n",
      "customer_id              0\n",
      "restaurant_name          0\n",
      "cuisine_type             0\n",
      "cost_of_the_order        0\n",
      "day_of_the_week          0\n",
      "rating                   0\n",
      "food_preparation_time    0\n",
      "delivery_time            0\n",
      "dtype: int64\n",
      "\n",
      "Unique rating values:\n",
      "['Not given' '5' '3' '4']\n",
      "Not given    736\n",
      "5            588\n",
      "4            386\n",
      "3            188\n",
      "Name: rating, dtype: int64\n"
     ]
    }
   ],
   "source": [
    "# typing number of null values in df\n",
    "\n",
    "print('Null values across different columns:')\n",
    "print(df.isnull().sum(), end = '\\n'*2)\n",
    "\n",
    "# looking at the distinct values of rating\n",
    "print('Unique rating values:')\n",
    "print(df['rating'].unique())\n",
    "print(df['rating'].value_counts(dropna = False))"
   ]
  },
  {
   "cell_type": "code",
   "execution_count": 7,
   "metadata": {
    "colab": {
     "base_uri": "https://localhost:8080/"
    },
    "id": "YpNo9OhWekTV",
    "outputId": "6031ad74-20a5-47fc-db1d-23d16ea97313"
   },
   "outputs": [
    {
     "name": "stdout",
     "output_type": "stream",
     "text": [
      "<class 'pandas.core.frame.DataFrame'>\n",
      "RangeIndex: 1898 entries, 0 to 1897\n",
      "Data columns (total 10 columns):\n",
      " #   Column                 Non-Null Count  Dtype  \n",
      "---  ------                 --------------  -----  \n",
      " 0   order_id               1898 non-null   int64  \n",
      " 1   customer_id            1898 non-null   int64  \n",
      " 2   restaurant_name        1898 non-null   object \n",
      " 3   cuisine_type           1898 non-null   object \n",
      " 4   cost_of_the_order      1898 non-null   float64\n",
      " 5   day_of_the_week        1898 non-null   object \n",
      " 6   rating                 1898 non-null   object \n",
      " 7   food_preparation_time  1898 non-null   int64  \n",
      " 8   delivery_time          1898 non-null   int64  \n",
      " 9   rating_num             1162 non-null   float64\n",
      "dtypes: float64(2), int64(4), object(4)\n",
      "memory usage: 148.4+ KB\n"
     ]
    }
   ],
   "source": [
    "# Creating a numerical rating column \n",
    "\n",
    "df['rating_num'] = df['rating'].replace('Not given', np.nan)\n",
    "df['rating_num'] = df['rating_num'].astype('float')\n",
    "df.info()"
   ]
  },
  {
   "cell_type": "markdown",
   "metadata": {
    "id": "jDHT3vD1JY_S"
   },
   "source": [
    "#### Observations: \n",
    "\n",
    "\n",
    "*   Running the isnull() method returns zero null values for all the columns.\n",
    "*   'Not given' input in the rating is in fact a feature of the app and a category of inputs for ratings (the most common one), for the customers who didn't take time to enter a rating for their order, and not a null value. \n",
    "*   Regardless, we have created a numerical column for rating, which will be helpful for calculating statistical properties such as mean and median, which we will later impute just for practice.  \n",
    "\n"
   ]
  },
  {
   "cell_type": "markdown",
   "metadata": {
    "id": "MnJo7MWrJY_S"
   },
   "source": [
    "### **Question 4:** Check the statistical summary of the data. What is the minimum, average, and maximum time it takes for food to be prepared once an order is placed? [2 marks]"
   ]
  },
  {
   "cell_type": "code",
   "execution_count": 8,
   "metadata": {
    "colab": {
     "base_uri": "https://localhost:8080/",
     "height": 238
    },
    "id": "WprQBgOSJY_T",
    "outputId": "791283ce-5633-43b1-cbae-e6b7165ad867"
   },
   "outputs": [
    {
     "data": {
      "text/html": [
       "\n",
       "  <div id=\"df-b229a1e3-9f42-43c4-ad7f-4360d2b849e6\">\n",
       "    <div class=\"colab-df-container\">\n",
       "      <div>\n",
       "<style scoped>\n",
       "    .dataframe tbody tr th:only-of-type {\n",
       "        vertical-align: middle;\n",
       "    }\n",
       "\n",
       "    .dataframe tbody tr th {\n",
       "        vertical-align: top;\n",
       "    }\n",
       "\n",
       "    .dataframe thead th {\n",
       "        text-align: right;\n",
       "    }\n",
       "</style>\n",
       "<table border=\"1\" class=\"dataframe\">\n",
       "  <thead>\n",
       "    <tr style=\"text-align: right;\">\n",
       "      <th></th>\n",
       "      <th>count</th>\n",
       "      <th>mean</th>\n",
       "      <th>std</th>\n",
       "      <th>min</th>\n",
       "      <th>25%</th>\n",
       "      <th>50%</th>\n",
       "      <th>75%</th>\n",
       "      <th>max</th>\n",
       "    </tr>\n",
       "  </thead>\n",
       "  <tbody>\n",
       "    <tr>\n",
       "      <th>order_id</th>\n",
       "      <td>1898.00</td>\n",
       "      <td>1477495.50</td>\n",
       "      <td>548.05</td>\n",
       "      <td>1476547.00</td>\n",
       "      <td>1477021.25</td>\n",
       "      <td>1477495.50</td>\n",
       "      <td>1477969.75</td>\n",
       "      <td>1478444.00</td>\n",
       "    </tr>\n",
       "    <tr>\n",
       "      <th>customer_id</th>\n",
       "      <td>1898.00</td>\n",
       "      <td>171168.48</td>\n",
       "      <td>113698.14</td>\n",
       "      <td>1311.00</td>\n",
       "      <td>77787.75</td>\n",
       "      <td>128600.00</td>\n",
       "      <td>270525.00</td>\n",
       "      <td>405334.00</td>\n",
       "    </tr>\n",
       "    <tr>\n",
       "      <th>cost_of_the_order</th>\n",
       "      <td>1898.00</td>\n",
       "      <td>16.50</td>\n",
       "      <td>7.48</td>\n",
       "      <td>4.47</td>\n",
       "      <td>12.08</td>\n",
       "      <td>14.14</td>\n",
       "      <td>22.30</td>\n",
       "      <td>35.41</td>\n",
       "    </tr>\n",
       "    <tr>\n",
       "      <th>food_preparation_time</th>\n",
       "      <td>1898.00</td>\n",
       "      <td>27.37</td>\n",
       "      <td>4.63</td>\n",
       "      <td>20.00</td>\n",
       "      <td>23.00</td>\n",
       "      <td>27.00</td>\n",
       "      <td>31.00</td>\n",
       "      <td>35.00</td>\n",
       "    </tr>\n",
       "    <tr>\n",
       "      <th>delivery_time</th>\n",
       "      <td>1898.00</td>\n",
       "      <td>24.16</td>\n",
       "      <td>4.97</td>\n",
       "      <td>15.00</td>\n",
       "      <td>20.00</td>\n",
       "      <td>25.00</td>\n",
       "      <td>28.00</td>\n",
       "      <td>33.00</td>\n",
       "    </tr>\n",
       "    <tr>\n",
       "      <th>rating_num</th>\n",
       "      <td>1162.00</td>\n",
       "      <td>4.34</td>\n",
       "      <td>0.74</td>\n",
       "      <td>3.00</td>\n",
       "      <td>4.00</td>\n",
       "      <td>5.00</td>\n",
       "      <td>5.00</td>\n",
       "      <td>5.00</td>\n",
       "    </tr>\n",
       "  </tbody>\n",
       "</table>\n",
       "</div>\n",
       "      <button class=\"colab-df-convert\" onclick=\"convertToInteractive('df-b229a1e3-9f42-43c4-ad7f-4360d2b849e6')\"\n",
       "              title=\"Convert this dataframe to an interactive table.\"\n",
       "              style=\"display:none;\">\n",
       "        \n",
       "  <svg xmlns=\"http://www.w3.org/2000/svg\" height=\"24px\"viewBox=\"0 0 24 24\"\n",
       "       width=\"24px\">\n",
       "    <path d=\"M0 0h24v24H0V0z\" fill=\"none\"/>\n",
       "    <path d=\"M18.56 5.44l.94 2.06.94-2.06 2.06-.94-2.06-.94-.94-2.06-.94 2.06-2.06.94zm-11 1L8.5 8.5l.94-2.06 2.06-.94-2.06-.94L8.5 2.5l-.94 2.06-2.06.94zm10 10l.94 2.06.94-2.06 2.06-.94-2.06-.94-.94-2.06-.94 2.06-2.06.94z\"/><path d=\"M17.41 7.96l-1.37-1.37c-.4-.4-.92-.59-1.43-.59-.52 0-1.04.2-1.43.59L10.3 9.45l-7.72 7.72c-.78.78-.78 2.05 0 2.83L4 21.41c.39.39.9.59 1.41.59.51 0 1.02-.2 1.41-.59l7.78-7.78 2.81-2.81c.8-.78.8-2.07 0-2.86zM5.41 20L4 18.59l7.72-7.72 1.47 1.35L5.41 20z\"/>\n",
       "  </svg>\n",
       "      </button>\n",
       "      \n",
       "  <style>\n",
       "    .colab-df-container {\n",
       "      display:flex;\n",
       "      flex-wrap:wrap;\n",
       "      gap: 12px;\n",
       "    }\n",
       "\n",
       "    .colab-df-convert {\n",
       "      background-color: #E8F0FE;\n",
       "      border: none;\n",
       "      border-radius: 50%;\n",
       "      cursor: pointer;\n",
       "      display: none;\n",
       "      fill: #1967D2;\n",
       "      height: 32px;\n",
       "      padding: 0 0 0 0;\n",
       "      width: 32px;\n",
       "    }\n",
       "\n",
       "    .colab-df-convert:hover {\n",
       "      background-color: #E2EBFA;\n",
       "      box-shadow: 0px 1px 2px rgba(60, 64, 67, 0.3), 0px 1px 3px 1px rgba(60, 64, 67, 0.15);\n",
       "      fill: #174EA6;\n",
       "    }\n",
       "\n",
       "    [theme=dark] .colab-df-convert {\n",
       "      background-color: #3B4455;\n",
       "      fill: #D2E3FC;\n",
       "    }\n",
       "\n",
       "    [theme=dark] .colab-df-convert:hover {\n",
       "      background-color: #434B5C;\n",
       "      box-shadow: 0px 1px 3px 1px rgba(0, 0, 0, 0.15);\n",
       "      filter: drop-shadow(0px 1px 2px rgba(0, 0, 0, 0.3));\n",
       "      fill: #FFFFFF;\n",
       "    }\n",
       "  </style>\n",
       "\n",
       "      <script>\n",
       "        const buttonEl =\n",
       "          document.querySelector('#df-b229a1e3-9f42-43c4-ad7f-4360d2b849e6 button.colab-df-convert');\n",
       "        buttonEl.style.display =\n",
       "          google.colab.kernel.accessAllowed ? 'block' : 'none';\n",
       "\n",
       "        async function convertToInteractive(key) {\n",
       "          const element = document.querySelector('#df-b229a1e3-9f42-43c4-ad7f-4360d2b849e6');\n",
       "          const dataTable =\n",
       "            await google.colab.kernel.invokeFunction('convertToInteractive',\n",
       "                                                     [key], {});\n",
       "          if (!dataTable) return;\n",
       "\n",
       "          const docLinkHtml = 'Like what you see? Visit the ' +\n",
       "            '<a target=\"_blank\" href=https://colab.research.google.com/notebooks/data_table.ipynb>data table notebook</a>'\n",
       "            + ' to learn more about interactive tables.';\n",
       "          element.innerHTML = '';\n",
       "          dataTable['output_type'] = 'display_data';\n",
       "          await google.colab.output.renderOutput(dataTable, element);\n",
       "          const docLink = document.createElement('div');\n",
       "          docLink.innerHTML = docLinkHtml;\n",
       "          element.appendChild(docLink);\n",
       "        }\n",
       "      </script>\n",
       "    </div>\n",
       "  </div>\n",
       "  "
      ],
      "text/plain": [
       "                        count       mean       std        min        25%  \\\n",
       "order_id              1898.00 1477495.50    548.05 1476547.00 1477021.25   \n",
       "customer_id           1898.00  171168.48 113698.14    1311.00   77787.75   \n",
       "cost_of_the_order     1898.00      16.50      7.48       4.47      12.08   \n",
       "food_preparation_time 1898.00      27.37      4.63      20.00      23.00   \n",
       "delivery_time         1898.00      24.16      4.97      15.00      20.00   \n",
       "rating_num            1162.00       4.34      0.74       3.00       4.00   \n",
       "\n",
       "                             50%        75%        max  \n",
       "order_id              1477495.50 1477969.75 1478444.00  \n",
       "customer_id            128600.00  270525.00  405334.00  \n",
       "cost_of_the_order          14.14      22.30      35.41  \n",
       "food_preparation_time      27.00      31.00      35.00  \n",
       "delivery_time              25.00      28.00      33.00  \n",
       "rating_num                  5.00       5.00       5.00  "
      ]
     },
     "execution_count": 8,
     "metadata": {},
     "output_type": "execute_result"
    }
   ],
   "source": [
    "# We check the statistical summary of the numerical and categorcal types separately\n",
    "\n",
    "# Numerical variables\n",
    "df.describe().T"
   ]
  },
  {
   "cell_type": "code",
   "execution_count": 9,
   "metadata": {
    "colab": {
     "base_uri": "https://localhost:8080/",
     "height": 175
    },
    "id": "JcB44mQkoJs5",
    "outputId": "4de0a833-de01-4a7f-cc16-8d195999aa62"
   },
   "outputs": [
    {
     "data": {
      "text/html": [
       "\n",
       "  <div id=\"df-104e82ac-9e3c-445f-ab57-1c4ea777f484\">\n",
       "    <div class=\"colab-df-container\">\n",
       "      <div>\n",
       "<style scoped>\n",
       "    .dataframe tbody tr th:only-of-type {\n",
       "        vertical-align: middle;\n",
       "    }\n",
       "\n",
       "    .dataframe tbody tr th {\n",
       "        vertical-align: top;\n",
       "    }\n",
       "\n",
       "    .dataframe thead th {\n",
       "        text-align: right;\n",
       "    }\n",
       "</style>\n",
       "<table border=\"1\" class=\"dataframe\">\n",
       "  <thead>\n",
       "    <tr style=\"text-align: right;\">\n",
       "      <th></th>\n",
       "      <th>count</th>\n",
       "      <th>unique</th>\n",
       "      <th>top</th>\n",
       "      <th>freq</th>\n",
       "    </tr>\n",
       "  </thead>\n",
       "  <tbody>\n",
       "    <tr>\n",
       "      <th>restaurant_name</th>\n",
       "      <td>1898</td>\n",
       "      <td>178</td>\n",
       "      <td>Shake Shack</td>\n",
       "      <td>219</td>\n",
       "    </tr>\n",
       "    <tr>\n",
       "      <th>cuisine_type</th>\n",
       "      <td>1898</td>\n",
       "      <td>14</td>\n",
       "      <td>American</td>\n",
       "      <td>584</td>\n",
       "    </tr>\n",
       "    <tr>\n",
       "      <th>day_of_the_week</th>\n",
       "      <td>1898</td>\n",
       "      <td>2</td>\n",
       "      <td>Weekend</td>\n",
       "      <td>1351</td>\n",
       "    </tr>\n",
       "    <tr>\n",
       "      <th>rating</th>\n",
       "      <td>1898</td>\n",
       "      <td>4</td>\n",
       "      <td>Not given</td>\n",
       "      <td>736</td>\n",
       "    </tr>\n",
       "  </tbody>\n",
       "</table>\n",
       "</div>\n",
       "      <button class=\"colab-df-convert\" onclick=\"convertToInteractive('df-104e82ac-9e3c-445f-ab57-1c4ea777f484')\"\n",
       "              title=\"Convert this dataframe to an interactive table.\"\n",
       "              style=\"display:none;\">\n",
       "        \n",
       "  <svg xmlns=\"http://www.w3.org/2000/svg\" height=\"24px\"viewBox=\"0 0 24 24\"\n",
       "       width=\"24px\">\n",
       "    <path d=\"M0 0h24v24H0V0z\" fill=\"none\"/>\n",
       "    <path d=\"M18.56 5.44l.94 2.06.94-2.06 2.06-.94-2.06-.94-.94-2.06-.94 2.06-2.06.94zm-11 1L8.5 8.5l.94-2.06 2.06-.94-2.06-.94L8.5 2.5l-.94 2.06-2.06.94zm10 10l.94 2.06.94-2.06 2.06-.94-2.06-.94-.94-2.06-.94 2.06-2.06.94z\"/><path d=\"M17.41 7.96l-1.37-1.37c-.4-.4-.92-.59-1.43-.59-.52 0-1.04.2-1.43.59L10.3 9.45l-7.72 7.72c-.78.78-.78 2.05 0 2.83L4 21.41c.39.39.9.59 1.41.59.51 0 1.02-.2 1.41-.59l7.78-7.78 2.81-2.81c.8-.78.8-2.07 0-2.86zM5.41 20L4 18.59l7.72-7.72 1.47 1.35L5.41 20z\"/>\n",
       "  </svg>\n",
       "      </button>\n",
       "      \n",
       "  <style>\n",
       "    .colab-df-container {\n",
       "      display:flex;\n",
       "      flex-wrap:wrap;\n",
       "      gap: 12px;\n",
       "    }\n",
       "\n",
       "    .colab-df-convert {\n",
       "      background-color: #E8F0FE;\n",
       "      border: none;\n",
       "      border-radius: 50%;\n",
       "      cursor: pointer;\n",
       "      display: none;\n",
       "      fill: #1967D2;\n",
       "      height: 32px;\n",
       "      padding: 0 0 0 0;\n",
       "      width: 32px;\n",
       "    }\n",
       "\n",
       "    .colab-df-convert:hover {\n",
       "      background-color: #E2EBFA;\n",
       "      box-shadow: 0px 1px 2px rgba(60, 64, 67, 0.3), 0px 1px 3px 1px rgba(60, 64, 67, 0.15);\n",
       "      fill: #174EA6;\n",
       "    }\n",
       "\n",
       "    [theme=dark] .colab-df-convert {\n",
       "      background-color: #3B4455;\n",
       "      fill: #D2E3FC;\n",
       "    }\n",
       "\n",
       "    [theme=dark] .colab-df-convert:hover {\n",
       "      background-color: #434B5C;\n",
       "      box-shadow: 0px 1px 3px 1px rgba(0, 0, 0, 0.15);\n",
       "      filter: drop-shadow(0px 1px 2px rgba(0, 0, 0, 0.3));\n",
       "      fill: #FFFFFF;\n",
       "    }\n",
       "  </style>\n",
       "\n",
       "      <script>\n",
       "        const buttonEl =\n",
       "          document.querySelector('#df-104e82ac-9e3c-445f-ab57-1c4ea777f484 button.colab-df-convert');\n",
       "        buttonEl.style.display =\n",
       "          google.colab.kernel.accessAllowed ? 'block' : 'none';\n",
       "\n",
       "        async function convertToInteractive(key) {\n",
       "          const element = document.querySelector('#df-104e82ac-9e3c-445f-ab57-1c4ea777f484');\n",
       "          const dataTable =\n",
       "            await google.colab.kernel.invokeFunction('convertToInteractive',\n",
       "                                                     [key], {});\n",
       "          if (!dataTable) return;\n",
       "\n",
       "          const docLinkHtml = 'Like what you see? Visit the ' +\n",
       "            '<a target=\"_blank\" href=https://colab.research.google.com/notebooks/data_table.ipynb>data table notebook</a>'\n",
       "            + ' to learn more about interactive tables.';\n",
       "          element.innerHTML = '';\n",
       "          dataTable['output_type'] = 'display_data';\n",
       "          await google.colab.output.renderOutput(dataTable, element);\n",
       "          const docLink = document.createElement('div');\n",
       "          docLink.innerHTML = docLinkHtml;\n",
       "          element.appendChild(docLink);\n",
       "        }\n",
       "      </script>\n",
       "    </div>\n",
       "  </div>\n",
       "  "
      ],
      "text/plain": [
       "                count unique          top  freq\n",
       "restaurant_name  1898    178  Shake Shack   219\n",
       "cuisine_type     1898     14     American   584\n",
       "day_of_the_week  1898      2      Weekend  1351\n",
       "rating           1898      4    Not given   736"
      ]
     },
     "execution_count": 9,
     "metadata": {},
     "output_type": "execute_result"
    }
   ],
   "source": [
    "# Categorical variables\n",
    "df.describe(include = object).T"
   ]
  },
  {
   "cell_type": "markdown",
   "metadata": {
    "id": "9YbSOR5wJY_T"
   },
   "source": [
    "#### Observations:\n",
    "\n",
    "\n",
    "##### Numerical:\n",
    "\n",
    "*   Cost of the order ranges from 4.47 USD to 35.41 USD with quite a notable spread (std about 50% of the mean).\n",
    "*   The minimum, maximum and average time for food preparation (in mins) are 20, 35 and 27.37 respectively. Fortunately, the range and spread of this variable are comparatively small ((std less than 25% of the mean)), i.e., the customers can predict how much they need to wait, and the waiting time most likely will not be surprisingly long. \n",
    "*   The minimum, maximum and average time for food delivery (in mins) are 15, 33 and 24.16 respectively. For the same reasons as preparation time, it's promising that this variable also has a relatively low standard deviation (std less than 1/3 of the mean).\n",
    "*   The median of the *given* ratings is 5, suggesting more than 50% of the rated orders are 5-stars, which also means that 5 is the most frequent *given* rating. The average of entered ratings is 4.34. These can indicate that customers are quite happy with the food, wait time, and the overall business! Although it needs more in-dpeth analysis, left for the EDA part.  \n",
    "\n",
    "\n",
    "##### Categorical:\n",
    "\n",
    "*   Expectedly, the business is more active on the weekends.\n",
    "*   American appears to be the most requested food type.\n",
    "*   Shake shack is the most popular restaurant by single-handedly accounting for about 11.5% of the orders.\n",
    "*   Although we created a numerical rating column too, rating can also be thought of a categorical variable, since seemingly, it can only take limited values: 0, 1, 2, 3, 4 and 5 stars (as well as 'not given'), but the occasional need for the calculation of mean and some other statistical properties suggests having ratings in numerical form is also a good idea.\n",
    "*   Among all orders, 'Not given' (being unrated) is the most common rating. Among rated orders, however, 5 is the most frequent one. In the current order list, ratings have only four categories (types of entry): 'Not given' or 3, 4 or 5 stars.  \n",
    "\n",
    "\n"
   ]
  },
  {
   "cell_type": "markdown",
   "metadata": {
    "id": "cw3l58z_JY_T"
   },
   "source": [
    "### **Question 5:** How many orders are not rated? [1 mark]\n"
   ]
  },
  {
   "cell_type": "code",
   "execution_count": 10,
   "metadata": {
    "colab": {
     "base_uri": "https://localhost:8080/"
    },
    "id": "hEzDUL9wgksi",
    "outputId": "3fb45f20-0d5d-4a6a-eec7-629c429d695e"
   },
   "outputs": [
    {
     "name": "stdout",
     "output_type": "stream",
     "text": [
      "No. of unrated orders: 736\n",
      "No. of unrated orders: 736\n"
     ]
    }
   ],
   "source": [
    "# Displaying the number of unrated orders\n",
    "print('No. of unrated orders:', df.loc[df['rating'] == 'Not given'].shape[0])\n",
    "\n",
    "# We can also do it by counting nans in 'rating_num' column, as we converted all 'Not given' ratings into np.nan in this column: \n",
    "print('No. of unrated orders:', df['rating_num'].isnull().sum())"
   ]
  },
  {
   "cell_type": "markdown",
   "metadata": {
    "id": "5E0O_oviJY_T"
   },
   "source": [
    "#### Observations: \n",
    "736 orders (~ 39%) haven't been rated. As can be seen, both methods (counting 'Not given' in categorical rating column and counting nan in numerical rating column) lead to the same result.\n",
    "\n",
    "\n",
    "\n"
   ]
  },
  {
   "cell_type": "markdown",
   "metadata": {
    "id": "cYAdz69g983c"
   },
   "source": [
    "### Treatment of the missing ratings:\n",
    "\n",
    "We have already established that there is no missing value in the original dataset, but regardless, and just for practice and experimenting a few things, we choose to impute the rating_num column. \n"
   ]
  },
  {
   "cell_type": "code",
   "execution_count": 11,
   "metadata": {
    "colab": {
     "base_uri": "https://localhost:8080/",
     "height": 334
    },
    "id": "RIP-OiRCMgh1",
    "outputId": "f9a0611e-e864-43bb-8ad5-f794d4b1ef3c"
   },
   "outputs": [
    {
     "data": {
      "image/png": "[encoded data removed]",
      "text/plain": [
       "<Figure size 1080x360 with 2 Axes>"
      ]
     },
     "metadata": {
      "needs_background": "light"
     },
     "output_type": "display_data"
    }
   ],
   "source": [
    "plt.figure(figsize = (15, 5))\n",
    "# Countplot of the original (categorical) ratings\n",
    "plt.subplot(1, 2, 1)\n",
    "sns.countplot(data = df, x = 'rating', order = ['3', '4', '5', 'Not given']);\n",
    "plt.xlabel('Rating');\n",
    "\n",
    "# Countplot of the numerical ratings\n",
    "plt.subplot(1, 2, 2)\n",
    "sns.countplot(data = df, x = 'rating_num');\n",
    "plt.xlabel('Rating');"
   ]
  },
  {
   "cell_type": "code",
   "execution_count": 12,
   "metadata": {
    "colab": {
     "base_uri": "https://localhost:8080/"
    },
    "id": "Z2HuzZyyDeFa",
    "outputId": "e948abbc-2cbc-4327-839a-f4ce8b41a1f3"
   },
   "outputs": [
    {
     "data": {
      "text/plain": [
       "American          584\n",
       "Japanese          470\n",
       "Italian           298\n",
       "Chinese           215\n",
       "Mexican            77\n",
       "Indian             73\n",
       "Middle Eastern     49\n",
       "Mediterranean      46\n",
       "Thai               19\n",
       "French             18\n",
       "Southern           17\n",
       "Korean             13\n",
       "Spanish            12\n",
       "Vietnamese          7\n",
       "Name: cuisine_type, dtype: int64"
      ]
     },
     "execution_count": 12,
     "metadata": {},
     "output_type": "execute_result"
    }
   ],
   "source": [
    "# Number of each cuisine type in the order list\n",
    "df['cuisine_type'].value_counts()"
   ]
  },
  {
   "cell_type": "code",
   "execution_count": 13,
   "metadata": {
    "colab": {
     "base_uri": "https://localhost:8080/"
    },
    "id": "-6vVltQKH02h",
    "outputId": "dd6666ab-96f9-47b2-a68e-c96b30a6c68a"
   },
   "outputs": [
    {
     "data": {
      "text/plain": [
       "Shake Shack                  219\n",
       "The Meatball Shop            132\n",
       "Blue Ribbon Sushi            119\n",
       "Blue Ribbon Fried Chicken     96\n",
       "Parm                          68\n",
       "                            ... \n",
       "Sushi Choshi                   1\n",
       "Dos Caminos Soho               1\n",
       "La Follia                      1\n",
       "Philippe Chow                  1\n",
       "'wichcraft                     1\n",
       "Name: restaurant_name, Length: 178, dtype: int64"
      ]
     },
     "execution_count": 13,
     "metadata": {},
     "output_type": "execute_result"
    }
   ],
   "source": [
    "# Number of each restaurant in the order list\n",
    "df['restaurant_name'].value_counts()"
   ]
  },
  {
   "cell_type": "markdown",
   "metadata": {
    "id": "3AWZkPQNBsyQ"
   },
   "source": [
    "#### Observations: \n",
    "\n",
    "*   The distribution of ratings isn't too skewed, so imputation via mean and median will most likely lead to similar results, but since 5 is dominant, median might have some advantage. This will be further investigated in the following.\n",
    "*   cuisine_type appears to be the best categorical variable for imputation of the rating. Doing it for the full data seems too unsophisticated, eliminating a lot of information, and adding too many 5-star ratings, and carrying it out for other categorical variables, e.g. restuarant_name, doesn't make sense, since the value counts of some of their categories is very low.\n",
    "\n"
   ]
  },
  {
   "cell_type": "code",
   "execution_count": 14,
   "metadata": {
    "colab": {
     "base_uri": "https://localhost:8080/",
     "height": 1000
    },
    "id": "95v9w2IFxTIp",
    "outputId": "05497125-7090-44c4-d4d9-e385f11c7414"
   },
   "outputs": [
    {
     "data": {
      "image/png": "[encoded data removed]",
      "text/plain": [
       "<Figure size 1440x1440 with 14 Axes>"
      ]
     },
     "metadata": {
      "needs_background": "light"
     },
     "output_type": "display_data"
    }
   ],
   "source": [
    "# Count plots of the numerical rating for all cuisine types\n",
    "sns.catplot(data = df, x = 'rating_num', col = 'cuisine_type', col_wrap = 4, kind = 'count');"
   ]
  },
  {
   "cell_type": "markdown",
   "metadata": {
    "id": "sUfHOjeYBZet"
   },
   "source": [
    "#### Observations: The same distribution as the full data can be more or less observed for each category of the cuisine type, i.e., 3 and 5 are respectively the least and the most frequent values."
   ]
  },
  {
   "cell_type": "code",
   "execution_count": 15,
   "metadata": {
    "colab": {
     "base_uri": "https://localhost:8080/",
     "height": 424
    },
    "id": "lLyq0h37yyyk",
    "outputId": "3ab83ebd-6f91-430f-bacd-a516fecd9baa"
   },
   "outputs": [
    {
     "data": {
      "text/html": [
       "\n",
       "  <div id=\"df-34fc134b-e828-462e-b6af-395ff0503892\">\n",
       "    <div class=\"colab-df-container\">\n",
       "      <div>\n",
       "<style scoped>\n",
       "    .dataframe tbody tr th:only-of-type {\n",
       "        vertical-align: middle;\n",
       "    }\n",
       "\n",
       "    .dataframe tbody tr th {\n",
       "        vertical-align: top;\n",
       "    }\n",
       "\n",
       "    .dataframe thead th {\n",
       "        text-align: right;\n",
       "    }\n",
       "</style>\n",
       "<table border=\"1\" class=\"dataframe\">\n",
       "  <thead>\n",
       "    <tr style=\"text-align: right;\">\n",
       "      <th></th>\n",
       "      <th>day_of_the_week</th>\n",
       "      <th>cuisine_type</th>\n",
       "      <th>rating</th>\n",
       "    </tr>\n",
       "  </thead>\n",
       "  <tbody>\n",
       "    <tr>\n",
       "      <th>0</th>\n",
       "      <td>Weekend</td>\n",
       "      <td>Korean</td>\n",
       "      <td>NaN</td>\n",
       "    </tr>\n",
       "    <tr>\n",
       "      <th>1</th>\n",
       "      <td>Weekend</td>\n",
       "      <td>Japanese</td>\n",
       "      <td>NaN</td>\n",
       "    </tr>\n",
       "    <tr>\n",
       "      <th>2</th>\n",
       "      <td>Weekday</td>\n",
       "      <td>Mexican</td>\n",
       "      <td>5.00</td>\n",
       "    </tr>\n",
       "    <tr>\n",
       "      <th>3</th>\n",
       "      <td>Weekend</td>\n",
       "      <td>American</td>\n",
       "      <td>3.00</td>\n",
       "    </tr>\n",
       "    <tr>\n",
       "      <th>4</th>\n",
       "      <td>Weekday</td>\n",
       "      <td>American</td>\n",
       "      <td>4.00</td>\n",
       "    </tr>\n",
       "    <tr>\n",
       "      <th>...</th>\n",
       "      <td>...</td>\n",
       "      <td>...</td>\n",
       "      <td>...</td>\n",
       "    </tr>\n",
       "    <tr>\n",
       "      <th>1893</th>\n",
       "      <td>Weekend</td>\n",
       "      <td>Mexican</td>\n",
       "      <td>5.00</td>\n",
       "    </tr>\n",
       "    <tr>\n",
       "      <th>1894</th>\n",
       "      <td>Weekend</td>\n",
       "      <td>American</td>\n",
       "      <td>5.00</td>\n",
       "    </tr>\n",
       "    <tr>\n",
       "      <th>1895</th>\n",
       "      <td>Weekday</td>\n",
       "      <td>Japanese</td>\n",
       "      <td>NaN</td>\n",
       "    </tr>\n",
       "    <tr>\n",
       "      <th>1896</th>\n",
       "      <td>Weekday</td>\n",
       "      <td>Mediterranean</td>\n",
       "      <td>5.00</td>\n",
       "    </tr>\n",
       "    <tr>\n",
       "      <th>1897</th>\n",
       "      <td>Weekend</td>\n",
       "      <td>Japanese</td>\n",
       "      <td>NaN</td>\n",
       "    </tr>\n",
       "  </tbody>\n",
       "</table>\n",
       "<p>1898 rows × 3 columns</p>\n",
       "</div>\n",
       "      <button class=\"colab-df-convert\" onclick=\"convertToInteractive('df-34fc134b-e828-462e-b6af-395ff0503892')\"\n",
       "              title=\"Convert this dataframe to an interactive table.\"\n",
       "              style=\"display:none;\">\n",
       "        \n",
       "  <svg xmlns=\"http://www.w3.org/2000/svg\" height=\"24px\"viewBox=\"0 0 24 24\"\n",
       "       width=\"24px\">\n",
       "    <path d=\"M0 0h24v24H0V0z\" fill=\"none\"/>\n",
       "    <path d=\"M18.56 5.44l.94 2.06.94-2.06 2.06-.94-2.06-.94-.94-2.06-.94 2.06-2.06.94zm-11 1L8.5 8.5l.94-2.06 2.06-.94-2.06-.94L8.5 2.5l-.94 2.06-2.06.94zm10 10l.94 2.06.94-2.06 2.06-.94-2.06-.94-.94-2.06-.94 2.06-2.06.94z\"/><path d=\"M17.41 7.96l-1.37-1.37c-.4-.4-.92-.59-1.43-.59-.52 0-1.04.2-1.43.59L10.3 9.45l-7.72 7.72c-.78.78-.78 2.05 0 2.83L4 21.41c.39.39.9.59 1.41.59.51 0 1.02-.2 1.41-.59l7.78-7.78 2.81-2.81c.8-.78.8-2.07 0-2.86zM5.41 20L4 18.59l7.72-7.72 1.47 1.35L5.41 20z\"/>\n",
       "  </svg>\n",
       "      </button>\n",
       "      \n",
       "  <style>\n",
       "    .colab-df-container {\n",
       "      display:flex;\n",
       "      flex-wrap:wrap;\n",
       "      gap: 12px;\n",
       "    }\n",
       "\n",
       "    .colab-df-convert {\n",
       "      background-color: #E8F0FE;\n",
       "      border: none;\n",
       "      border-radius: 50%;\n",
       "      cursor: pointer;\n",
       "      display: none;\n",
       "      fill: #1967D2;\n",
       "      height: 32px;\n",
       "      padding: 0 0 0 0;\n",
       "      width: 32px;\n",
       "    }\n",
       "\n",
       "    .colab-df-convert:hover {\n",
       "      background-color: #E2EBFA;\n",
       "      box-shadow: 0px 1px 2px rgba(60, 64, 67, 0.3), 0px 1px 3px 1px rgba(60, 64, 67, 0.15);\n",
       "      fill: #174EA6;\n",
       "    }\n",
       "\n",
       "    [theme=dark] .colab-df-convert {\n",
       "      background-color: #3B4455;\n",
       "      fill: #D2E3FC;\n",
       "    }\n",
       "\n",
       "    [theme=dark] .colab-df-convert:hover {\n",
       "      background-color: #434B5C;\n",
       "      box-shadow: 0px 1px 3px 1px rgba(0, 0, 0, 0.15);\n",
       "      filter: drop-shadow(0px 1px 2px rgba(0, 0, 0, 0.3));\n",
       "      fill: #FFFFFF;\n",
       "    }\n",
       "  </style>\n",
       "\n",
       "      <script>\n",
       "        const buttonEl =\n",
       "          document.querySelector('#df-34fc134b-e828-462e-b6af-395ff0503892 button.colab-df-convert');\n",
       "        buttonEl.style.display =\n",
       "          google.colab.kernel.accessAllowed ? 'block' : 'none';\n",
       "\n",
       "        async function convertToInteractive(key) {\n",
       "          const element = document.querySelector('#df-34fc134b-e828-462e-b6af-395ff0503892');\n",
       "          const dataTable =\n",
       "            await google.colab.kernel.invokeFunction('convertToInteractive',\n",
       "                                                     [key], {});\n",
       "          if (!dataTable) return;\n",
       "\n",
       "          const docLinkHtml = 'Like what you see? Visit the ' +\n",
       "            '<a target=\"_blank\" href=https://colab.research.google.com/notebooks/data_table.ipynb>data table notebook</a>'\n",
       "            + ' to learn more about interactive tables.';\n",
       "          element.innerHTML = '';\n",
       "          dataTable['output_type'] = 'display_data';\n",
       "          await google.colab.output.renderOutput(dataTable, element);\n",
       "          const docLink = document.createElement('div');\n",
       "          docLink.innerHTML = docLinkHtml;\n",
       "          element.appendChild(docLink);\n",
       "        }\n",
       "      </script>\n",
       "    </div>\n",
       "  </div>\n",
       "  "
      ],
      "text/plain": [
       "     day_of_the_week   cuisine_type  rating\n",
       "0            Weekend         Korean     NaN\n",
       "1            Weekend       Japanese     NaN\n",
       "2            Weekday        Mexican    5.00\n",
       "3            Weekend       American    3.00\n",
       "4            Weekday       American    4.00\n",
       "...              ...            ...     ...\n",
       "1893         Weekend        Mexican    5.00\n",
       "1894         Weekend       American    5.00\n",
       "1895         Weekday       Japanese     NaN\n",
       "1896         Weekday  Mediterranean    5.00\n",
       "1897         Weekend       Japanese     NaN\n",
       "\n",
       "[1898 rows x 3 columns]"
      ]
     },
     "execution_count": 15,
     "metadata": {},
     "output_type": "execute_result"
    }
   ],
   "source": [
    "# Making a smaller dataset only for entries with missing rating\n",
    "rating = df[['day_of_the_week', 'cuisine_type', 'rating_num']].loc[df['rating'].isnull() == False].reset_index(drop = True)\n",
    "rating.rename(columns = {'rating_num': 'rating'}, inplace = True)\n",
    "rating"
   ]
  },
  {
   "cell_type": "code",
   "execution_count": 16,
   "metadata": {
    "colab": {
     "base_uri": "https://localhost:8080/"
    },
    "id": "ZdJQVNcs4hLB",
    "outputId": "9017ab05-38da-40f5-d677-96772f41ebae"
   },
   "outputs": [
    {
     "name": "stdout",
     "output_type": "stream",
     "text": [
      "31% of rating for Korean food is missing.\n",
      "42% of rating for Japanese food is missing.\n",
      "38% of rating for Mexican food is missing.\n",
      "37% of rating for American food is missing.\n",
      "32% of rating for Indian food is missing.\n",
      "42% of rating for Italian food is missing.\n",
      "30% of rating for Mediterranean food is missing.\n",
      "38% of rating for Chinese food is missing.\n",
      "31% of rating for Middle Eastern food is missing.\n",
      "53% of rating for Thai food is missing.\n",
      "24% of rating for Southern food is missing.\n",
      "44% of rating for French food is missing.\n",
      "50% of rating for Spanish food is missing.\n",
      "29% of rating for Vietnamese food is missing.\n"
     ]
    }
   ],
   "source": [
    "# Finding out the percentage of nulls across all cuisine types\n",
    "\n",
    "# crearing a list of all cuisines\n",
    "cuisine = list(rating['cuisine_type'].unique())\n",
    "for text in cuisine:\n",
    "  # total number of a certain cuisine in df \n",
    "  num_food_type = rating.loc[rating['cuisine_type'] == text].shape[0] \n",
    "  # number of null ratings for that certain cuisine\n",
    "  num_food_type_null = rating['rating'].loc[rating['cuisine_type'] == text].isnull().sum()\n",
    "  print(round(num_food_type_null/num_food_type*100), \n",
    "        '% of rating for ', text, ' food is missing', sep = '', end = '.\\n')"
   ]
  },
  {
   "cell_type": "markdown",
   "metadata": {
    "id": "HvpPJTwbBAMQ"
   },
   "source": [
    "#### Observations: \n",
    "Only one food type has missing values exceeding 50% (and barely), so imputation isn't too far-fetched, but still not ideal, since the percentage of missing values for some cuisine types is relatively high."
   ]
  },
  {
   "cell_type": "code",
   "execution_count": 17,
   "metadata": {
    "colab": {
     "base_uri": "https://localhost:8080/"
    },
    "id": "oacU6xUA0jkz",
    "outputId": "2048515e-0f2b-494c-b691-8628da81a4bb"
   },
   "outputs": [
    {
     "data": {
      "text/plain": [
       "cuisine_type\n",
       "American         5.00\n",
       "Chinese          5.00\n",
       "French           5.00\n",
       "Indian           5.00\n",
       "Italian          5.00\n",
       "Japanese         5.00\n",
       "Korean           4.00\n",
       "Mediterranean    5.00\n",
       "Mexican          5.00\n",
       "Middle Eastern   4.00\n",
       "Southern         4.00\n",
       "Spanish          5.00\n",
       "Thai             5.00\n",
       "Vietnamese       5.00\n",
       "Name: rating, dtype: float64"
      ]
     },
     "execution_count": 17,
     "metadata": {},
     "output_type": "execute_result"
    }
   ],
   "source": [
    "# Displaying the mode of ratings based on their cuisine type\n",
    "rating.groupby('cuisine_type')['rating'].agg(lambda x:x.value_counts().index[0])"
   ]
  },
  {
   "cell_type": "code",
   "execution_count": 18,
   "metadata": {
    "colab": {
     "base_uri": "https://localhost:8080/"
    },
    "id": "ewIE6SzZ3JM6",
    "outputId": "ac4a6adf-b0bd-4108-cd56-ea47e2c90b2d"
   },
   "outputs": [
    {
     "data": {
      "text/plain": [
       "cuisine_type\n",
       "American         4.00\n",
       "Chinese          5.00\n",
       "French           4.50\n",
       "Indian           5.00\n",
       "Italian          5.00\n",
       "Japanese         5.00\n",
       "Korean           4.00\n",
       "Mediterranean    4.50\n",
       "Mexican          5.00\n",
       "Middle Eastern   4.00\n",
       "Southern         4.00\n",
       "Spanish          5.00\n",
       "Thai             5.00\n",
       "Vietnamese       4.00\n",
       "Name: rating, dtype: float64"
      ]
     },
     "execution_count": 18,
     "metadata": {},
     "output_type": "execute_result"
    }
   ],
   "source": [
    "# Displaying the median of ratings based on their cuisine type\n",
    "rating.groupby('cuisine_type')['rating'].median()"
   ]
  },
  {
   "cell_type": "code",
   "execution_count": 19,
   "metadata": {
    "colab": {
     "base_uri": "https://localhost:8080/"
    },
    "id": "GvI1EF-L3TAC",
    "outputId": "272304d5-5641-4629-8263-ff132a2b716f"
   },
   "outputs": [
    {
     "data": {
      "text/plain": [
       "cuisine_type\n",
       "American         4.30\n",
       "Chinese          4.34\n",
       "French           4.30\n",
       "Indian           4.54\n",
       "Italian          4.36\n",
       "Japanese         4.37\n",
       "Korean           4.11\n",
       "Mediterranean    4.22\n",
       "Mexican          4.42\n",
       "Middle Eastern   4.24\n",
       "Southern         4.31\n",
       "Spanish          4.83\n",
       "Thai             4.67\n",
       "Vietnamese       4.00\n",
       "Name: rating, dtype: float64"
      ]
     },
     "execution_count": 19,
     "metadata": {},
     "output_type": "execute_result"
    }
   ],
   "source": [
    "# Displaying the mean of ratings based on their cuisine type\n",
    "rating.groupby('cuisine_type')['rating'].mean()"
   ]
  },
  {
   "cell_type": "markdown",
   "metadata": {
    "id": "2x1WXM3H-98P"
   },
   "source": [
    "#### Observations: \n",
    "\n",
    "*   Choosing mode for imputations would add many 5-star ratings, while the ratings are already dominated by 5.  \n",
    "*   Mean and median both would diversify the imputation values, thereby less affecting the resulting mean, median and distribution. They both seem to be good candidates, leading to similar results, especially considering that we eventually round the imputation values, as seemingly, rating only takes 0, 1, 2, 3, 4 or 5 stars.\n",
    "*   We choose to proceed with median to treat the missing values, which seems to have the least effect on distribution, as it is one of the major factors. "
   ]
  },
  {
   "cell_type": "markdown",
   "metadata": {
    "id": "W4g_rJ03IoMD"
   },
   "source": [
    "### Imputation of the rating using the median of each cuisine type:"
   ]
  },
  {
   "cell_type": "code",
   "execution_count": 20,
   "metadata": {
    "colab": {
     "base_uri": "https://localhost:8080/",
     "height": 322
    },
    "id": "y3StGerrIu5p",
    "outputId": "ddd70064-7094-4948-87a5-b23cd640b5ab"
   },
   "outputs": [
    {
     "data": {
      "text/html": [
       "\n",
       "  <div id=\"df-e5b6ad93-d1f7-4b78-9301-fb35034b7923\">\n",
       "    <div class=\"colab-df-container\">\n",
       "      <div>\n",
       "<style scoped>\n",
       "    .dataframe tbody tr th:only-of-type {\n",
       "        vertical-align: middle;\n",
       "    }\n",
       "\n",
       "    .dataframe tbody tr th {\n",
       "        vertical-align: top;\n",
       "    }\n",
       "\n",
       "    .dataframe thead th {\n",
       "        text-align: right;\n",
       "    }\n",
       "</style>\n",
       "<table border=\"1\" class=\"dataframe\">\n",
       "  <thead>\n",
       "    <tr style=\"text-align: right;\">\n",
       "      <th></th>\n",
       "      <th>order_id</th>\n",
       "      <th>customer_id</th>\n",
       "      <th>restaurant_name</th>\n",
       "      <th>cuisine_type</th>\n",
       "      <th>cost_of_the_order</th>\n",
       "      <th>day_of_the_week</th>\n",
       "      <th>rating</th>\n",
       "      <th>food_preparation_time</th>\n",
       "      <th>delivery_time</th>\n",
       "      <th>rating_num</th>\n",
       "      <th>rating_imput</th>\n",
       "    </tr>\n",
       "  </thead>\n",
       "  <tbody>\n",
       "    <tr>\n",
       "      <th>0</th>\n",
       "      <td>1477147</td>\n",
       "      <td>337525</td>\n",
       "      <td>Hangawi</td>\n",
       "      <td>Korean</td>\n",
       "      <td>30.75</td>\n",
       "      <td>Weekend</td>\n",
       "      <td>Not given</td>\n",
       "      <td>25</td>\n",
       "      <td>20</td>\n",
       "      <td>NaN</td>\n",
       "      <td>4.00</td>\n",
       "    </tr>\n",
       "    <tr>\n",
       "      <th>1</th>\n",
       "      <td>1477685</td>\n",
       "      <td>358141</td>\n",
       "      <td>Blue Ribbon Sushi Izakaya</td>\n",
       "      <td>Japanese</td>\n",
       "      <td>12.08</td>\n",
       "      <td>Weekend</td>\n",
       "      <td>Not given</td>\n",
       "      <td>25</td>\n",
       "      <td>23</td>\n",
       "      <td>NaN</td>\n",
       "      <td>5.00</td>\n",
       "    </tr>\n",
       "    <tr>\n",
       "      <th>2</th>\n",
       "      <td>1477070</td>\n",
       "      <td>66393</td>\n",
       "      <td>Cafe Habana</td>\n",
       "      <td>Mexican</td>\n",
       "      <td>12.23</td>\n",
       "      <td>Weekday</td>\n",
       "      <td>5</td>\n",
       "      <td>23</td>\n",
       "      <td>28</td>\n",
       "      <td>5.00</td>\n",
       "      <td>5.00</td>\n",
       "    </tr>\n",
       "    <tr>\n",
       "      <th>3</th>\n",
       "      <td>1477334</td>\n",
       "      <td>106968</td>\n",
       "      <td>Blue Ribbon Fried Chicken</td>\n",
       "      <td>American</td>\n",
       "      <td>29.20</td>\n",
       "      <td>Weekend</td>\n",
       "      <td>3</td>\n",
       "      <td>25</td>\n",
       "      <td>15</td>\n",
       "      <td>3.00</td>\n",
       "      <td>3.00</td>\n",
       "    </tr>\n",
       "    <tr>\n",
       "      <th>4</th>\n",
       "      <td>1478249</td>\n",
       "      <td>76942</td>\n",
       "      <td>Dirty Bird to Go</td>\n",
       "      <td>American</td>\n",
       "      <td>11.59</td>\n",
       "      <td>Weekday</td>\n",
       "      <td>4</td>\n",
       "      <td>25</td>\n",
       "      <td>24</td>\n",
       "      <td>4.00</td>\n",
       "      <td>4.00</td>\n",
       "    </tr>\n",
       "  </tbody>\n",
       "</table>\n",
       "</div>\n",
       "      <button class=\"colab-df-convert\" onclick=\"convertToInteractive('df-e5b6ad93-d1f7-4b78-9301-fb35034b7923')\"\n",
       "              title=\"Convert this dataframe to an interactive table.\"\n",
       "              style=\"display:none;\">\n",
       "        \n",
       "  <svg xmlns=\"http://www.w3.org/2000/svg\" height=\"24px\"viewBox=\"0 0 24 24\"\n",
       "       width=\"24px\">\n",
       "    <path d=\"M0 0h24v24H0V0z\" fill=\"none\"/>\n",
       "    <path d=\"M18.56 5.44l.94 2.06.94-2.06 2.06-.94-2.06-.94-.94-2.06-.94 2.06-2.06.94zm-11 1L8.5 8.5l.94-2.06 2.06-.94-2.06-.94L8.5 2.5l-.94 2.06-2.06.94zm10 10l.94 2.06.94-2.06 2.06-.94-2.06-.94-.94-2.06-.94 2.06-2.06.94z\"/><path d=\"M17.41 7.96l-1.37-1.37c-.4-.4-.92-.59-1.43-.59-.52 0-1.04.2-1.43.59L10.3 9.45l-7.72 7.72c-.78.78-.78 2.05 0 2.83L4 21.41c.39.39.9.59 1.41.59.51 0 1.02-.2 1.41-.59l7.78-7.78 2.81-2.81c.8-.78.8-2.07 0-2.86zM5.41 20L4 18.59l7.72-7.72 1.47 1.35L5.41 20z\"/>\n",
       "  </svg>\n",
       "      </button>\n",
       "      \n",
       "  <style>\n",
       "    .colab-df-container {\n",
       "      display:flex;\n",
       "      flex-wrap:wrap;\n",
       "      gap: 12px;\n",
       "    }\n",
       "\n",
       "    .colab-df-convert {\n",
       "      background-color: #E8F0FE;\n",
       "      border: none;\n",
       "      border-radius: 50%;\n",
       "      cursor: pointer;\n",
       "      display: none;\n",
       "      fill: #1967D2;\n",
       "      height: 32px;\n",
       "      padding: 0 0 0 0;\n",
       "      width: 32px;\n",
       "    }\n",
       "\n",
       "    .colab-df-convert:hover {\n",
       "      background-color: #E2EBFA;\n",
       "      box-shadow: 0px 1px 2px rgba(60, 64, 67, 0.3), 0px 1px 3px 1px rgba(60, 64, 67, 0.15);\n",
       "      fill: #174EA6;\n",
       "    }\n",
       "\n",
       "    [theme=dark] .colab-df-convert {\n",
       "      background-color: #3B4455;\n",
       "      fill: #D2E3FC;\n",
       "    }\n",
       "\n",
       "    [theme=dark] .colab-df-convert:hover {\n",
       "      background-color: #434B5C;\n",
       "      box-shadow: 0px 1px 3px 1px rgba(0, 0, 0, 0.15);\n",
       "      filter: drop-shadow(0px 1px 2px rgba(0, 0, 0, 0.3));\n",
       "      fill: #FFFFFF;\n",
       "    }\n",
       "  </style>\n",
       "\n",
       "      <script>\n",
       "        const buttonEl =\n",
       "          document.querySelector('#df-e5b6ad93-d1f7-4b78-9301-fb35034b7923 button.colab-df-convert');\n",
       "        buttonEl.style.display =\n",
       "          google.colab.kernel.accessAllowed ? 'block' : 'none';\n",
       "\n",
       "        async function convertToInteractive(key) {\n",
       "          const element = document.querySelector('#df-e5b6ad93-d1f7-4b78-9301-fb35034b7923');\n",
       "          const dataTable =\n",
       "            await google.colab.kernel.invokeFunction('convertToInteractive',\n",
       "                                                     [key], {});\n",
       "          if (!dataTable) return;\n",
       "\n",
       "          const docLinkHtml = 'Like what you see? Visit the ' +\n",
       "            '<a target=\"_blank\" href=https://colab.research.google.com/notebooks/data_table.ipynb>data table notebook</a>'\n",
       "            + ' to learn more about interactive tables.';\n",
       "          element.innerHTML = '';\n",
       "          dataTable['output_type'] = 'display_data';\n",
       "          await google.colab.output.renderOutput(dataTable, element);\n",
       "          const docLink = document.createElement('div');\n",
       "          docLink.innerHTML = docLinkHtml;\n",
       "          element.appendChild(docLink);\n",
       "        }\n",
       "      </script>\n",
       "    </div>\n",
       "  </div>\n",
       "  "
      ],
      "text/plain": [
       "   order_id  customer_id            restaurant_name cuisine_type  \\\n",
       "0   1477147       337525                    Hangawi       Korean   \n",
       "1   1477685       358141  Blue Ribbon Sushi Izakaya     Japanese   \n",
       "2   1477070        66393                Cafe Habana      Mexican   \n",
       "3   1477334       106968  Blue Ribbon Fried Chicken     American   \n",
       "4   1478249        76942           Dirty Bird to Go     American   \n",
       "\n",
       "   cost_of_the_order day_of_the_week     rating  food_preparation_time  \\\n",
       "0              30.75         Weekend  Not given                     25   \n",
       "1              12.08         Weekend  Not given                     25   \n",
       "2              12.23         Weekday          5                     23   \n",
       "3              29.20         Weekend          3                     25   \n",
       "4              11.59         Weekday          4                     25   \n",
       "\n",
       "   delivery_time  rating_num  rating_imput  \n",
       "0             20         NaN          4.00  \n",
       "1             23         NaN          5.00  \n",
       "2             28        5.00          5.00  \n",
       "3             15        3.00          3.00  \n",
       "4             24        4.00          4.00  "
      ]
     },
     "execution_count": 20,
     "metadata": {},
     "output_type": "execute_result"
    }
   ],
   "source": [
    "# Filling the missing ratings by the rounded median of their corresponding cuisine type category\n",
    "df['rating_imput'] = df['rating_num'].fillna(value = df.groupby(['cuisine_type'])['rating_num'].transform('median').round())\n",
    "df.head()"
   ]
  },
  {
   "cell_type": "markdown",
   "metadata": {
    "id": "Ozz1yFOesWv2"
   },
   "source": [
    "#### Displaying the impacts of imputation on the data:"
   ]
  },
  {
   "cell_type": "code",
   "execution_count": 21,
   "metadata": {
    "colab": {
     "base_uri": "https://localhost:8080/"
    },
    "id": "j35eDVRvUNza",
    "outputId": "c83d1748-7ca7-49aa-8fcb-f10a0ed24056"
   },
   "outputs": [
    {
     "name": "stdout",
     "output_type": "stream",
     "text": [
      "Post-imputation change in the rating average (%) 2.66\n",
      "\n",
      "Post-imputation change in the rating average per cuisine type (%) \n",
      "cuisine_type\n",
      "American         -2.57\n",
      "Chinese           5.82\n",
      "French           -3.10\n",
      "Indian            3.19\n",
      "Italian           6.20\n",
      "Japanese          6.00\n",
      "Korean           -0.83\n",
      "Mediterranean    -1.58\n",
      "Mexican           4.97\n",
      "Middle Eastern   -1.70\n",
      "Southern         -1.68\n",
      "Spanish           1.72\n",
      "Thai              3.76\n",
      "Vietnamese        0.00\n",
      "dtype: float64\n"
     ]
    }
   ],
   "source": [
    "# percentage of change in mean of rating after imputation\n",
    "mean_change = (df['rating_imput'].mean() - df['rating_num'].mean())/df['rating_num'].mean()*100\n",
    "\n",
    "mean_change_cuisine = (df.groupby(['cuisine_type'])['rating_imput'].mean()\n",
    "   - df.groupby(['cuisine_type'])['rating_num'].mean())/df.groupby(['cuisine_type'])['rating_num'].mean()*100\n",
    "\n",
    "print('Post-imputation change in the rating average (%)', round(mean_change, 2), end = '\\n'*2)\n",
    "print('Post-imputation change in the rating average per cuisine type (%) \\n', mean_change_cuisine, sep = '')"
   ]
  },
  {
   "cell_type": "code",
   "execution_count": 22,
   "metadata": {
    "colab": {
     "base_uri": "https://localhost:8080/"
    },
    "id": "SG6mX8dLr1sx",
    "outputId": "66800f06-ae38-4a98-feec-d7fda077d005"
   },
   "outputs": [
    {
     "name": "stdout",
     "output_type": "stream",
     "text": [
      "Post-imputation change in the rating median (%) 0.0\n",
      "\n",
      "Post-imputation change in the rating median per cuisine type (%) \n",
      "cuisine_type\n",
      "American           0.00\n",
      "Chinese            0.00\n",
      "French           -11.11\n",
      "Indian             0.00\n",
      "Italian            0.00\n",
      "Japanese           0.00\n",
      "Korean             0.00\n",
      "Mediterranean    -11.11\n",
      "Mexican            0.00\n",
      "Middle Eastern     0.00\n",
      "Southern           0.00\n",
      "Spanish            0.00\n",
      "Thai               0.00\n",
      "Vietnamese         0.00\n",
      "dtype: float64\n"
     ]
    }
   ],
   "source": [
    "# Percentage of change in median of rating after imputation\n",
    "\n",
    "median_change = (df['rating_imput'].median() - df['rating_num'].median())/df['rating_num'].median()*100\n",
    "\n",
    "median_change_cuisine = (df.groupby(['cuisine_type'])['rating_imput'].median()\n",
    "   - df.groupby(['cuisine_type'])['rating_num'].median())/df.groupby(['cuisine_type'])['rating_num'].median()*100\n",
    "\n",
    "print('Post-imputation change in the rating median (%)', round(median_change, 2), end = '\\n'*2)\n",
    "print('Post-imputation change in the rating median per cuisine type (%) \\n', median_change_cuisine, sep = '')"
   ]
  },
  {
   "cell_type": "code",
   "execution_count": 23,
   "metadata": {
    "colab": {
     "base_uri": "https://localhost:8080/",
     "height": 334
    },
    "id": "6Sh3YPIBsD21",
    "outputId": "c9661881-b164-48e0-b8a6-6d16113e1693"
   },
   "outputs": [
    {
     "data": {
      "image/png": "[encoded data removed]",
      "text/plain": [
       "<Figure size 1080x360 with 2 Axes>"
      ]
     },
     "metadata": {
      "needs_background": "light"
     },
     "output_type": "display_data"
    }
   ],
   "source": [
    "# Plotting the rating distribution before and after imputation\n",
    "\n",
    "plt.figure(figsize = (15, 5))\n",
    "plt.subplot(1, 2, 1)\n",
    "sns.countplot(data = df, x = 'rating_num');\n",
    "plt.xlabel('Pre-imputation Rating');\n",
    "plt.subplot(1, 2, 2)\n",
    "sns.countplot(data = df, x = 'rating_imput');\n",
    "plt.xlabel('Post-imputation Rating');"
   ]
  },
  {
   "cell_type": "markdown",
   "metadata": {
    "id": "ge7LWznxYUun"
   },
   "source": [
    "#### Observations:\n",
    "As can be seen, after imputation the overall mean and the mean values across each cuisine type barely change. The median and mode also remain at 5, and although the new distribution has more 4 and 5 star ratings (with no change in 3), overall, it conveys the same message as before. "
   ]
  },
  {
   "cell_type": "code",
   "execution_count": 24,
   "metadata": {
    "colab": {
     "base_uri": "https://localhost:8080/"
    },
    "id": "TMQmdaot-Gtx",
    "outputId": "ce3ea582-98e1-4ead-e354-02e6bfaa46d6"
   },
   "outputs": [
    {
     "name": "stdout",
     "output_type": "stream",
     "text": [
      "The dataset has 0 duplicated entries.\n"
     ]
    }
   ],
   "source": [
    "# Before proceeding to EDA, let's make sure data doesn't have any duplicates!\n",
    "print('The dataset has', df.duplicated().sum(), 'duplicated entries.')"
   ]
  },
  {
   "cell_type": "markdown",
   "metadata": {
    "id": "cQLUGzjmqKsj"
   },
   "source": [
    "#### Observations: df doesn't have any duplicated entries."
   ]
  },
  {
   "cell_type": "markdown",
   "metadata": {
    "id": "7msIfXE-JY_T"
   },
   "source": [
    "### Exploratory Data Analysis (EDA)"
   ]
  },
  {
   "cell_type": "markdown",
   "metadata": {
    "id": "-2xfI28YJY_T"
   },
   "source": [
    "### Univariate Analysis"
   ]
  },
  {
   "cell_type": "markdown",
   "metadata": {
    "id": "0RHZnugBJY_U"
   },
   "source": [
    "### **Question 6:** Explore all the variables and provide observations on their distributions. (Generally, histograms, boxplots, countplots, etc. are used for univariate exploration.) [9 marks]"
   ]
  },
  {
   "cell_type": "code",
   "execution_count": 25,
   "metadata": {
    "colab": {
     "base_uri": "https://localhost:8080/"
    },
    "id": "rU5ZqISjJY_U",
    "outputId": "aa654152-d32d-4bd2-81aa-7d59e9bb5246"
   },
   "outputs": [
    {
     "name": "stdout",
     "output_type": "stream",
     "text": [
      "# of unique order IDs: 1898\n",
      "Minimum order ID: 1476547\n",
      "Maximum order ID: 1478444\n",
      "Difference between the maximum and minimum: 1897\n"
     ]
    }
   ],
   "source": [
    "# Exploring order ID\n",
    "\n",
    "print('# of unique order IDs:', df['order_id'].nunique())\n",
    "print('Minimum order ID:', df['order_id'].min())\n",
    "print('Maximum order ID:', df['order_id'].max())\n",
    "print('Difference between the maximum and minimum:', df['order_id'].max() - df['order_id'].min())"
   ]
  },
  {
   "cell_type": "markdown",
   "metadata": {
    "id": "mjQi7m9sqnql"
   },
   "source": [
    "#### Observation:\n",
    "As expected, there are 1898 unique order IDs, ranging from 1476547 to 1478444, and all numbers between the two are covered in the order list."
   ]
  },
  {
   "cell_type": "code",
   "execution_count": 26,
   "metadata": {
    "colab": {
     "base_uri": "https://localhost:8080/"
    },
    "id": "ABeUHJuTrFIp",
    "outputId": "c650ef2c-6189-4d5b-e2f4-112f3e0a7305"
   },
   "outputs": [
    {
     "name": "stdout",
     "output_type": "stream",
     "text": [
      "# of unique customer IDs: 1200\n",
      "Minimum order ID: 1311\n",
      "Maximum order ID: 405334\n",
      "\n",
      "# of customers using the app more than once: 416\n",
      "\n"
     ]
    },
    {
     "data": {
      "text/plain": [
       "52832    13\n",
       "Name: customer_id, dtype: int64"
      ]
     },
     "execution_count": 26,
     "metadata": {},
     "output_type": "execute_result"
    }
   ],
   "source": [
    "# Exploring customer ID\n",
    "\n",
    "print('# of unique customer IDs:', df['customer_id'].nunique())\n",
    "print('Minimum order ID:', df['customer_id'].min())\n",
    "print('Maximum order ID:', df['customer_id'].max(), end = '\\n'*2)\n",
    "\n",
    "print('# of customers using the app more than once:', sum(df['customer_id'].value_counts().values > 1), end = '\\n'*2)\n",
    "\n",
    "# The customer with the highest no. of orders\n",
    "df['customer_id'].value_counts()[0:1]"
   ]
  },
  {
   "cell_type": "markdown",
   "metadata": {
    "id": "KvKzm-4Xt1S8"
   },
   "source": [
    "#### Observations:\n",
    "\n",
    "*   There are 1200 unique cusomer IDs, indicating that most customers in the list have used the app only once.\n",
    "*   Customer IDs have a huge range, perhaps indicating that some of the older customers with lower IDs and some of the newer customers with higher IDs are included. This may not be true, if the assignment of customer IDs is fully random.\n",
    "*   Only 416 customers in the list have used the app more than once.\n",
    "*   Customer with the ID 52832 is the most frequent customer in the list.\n",
    "\n",
    "\n"
   ]
  },
  {
   "cell_type": "code",
   "execution_count": 27,
   "metadata": {
    "colab": {
     "base_uri": "https://localhost:8080/"
    },
    "id": "vv8-8QAgvjLz",
    "outputId": "9fe6b57a-3d8f-48d0-d85e-9558feb136b1"
   },
   "outputs": [
    {
     "name": "stdout",
     "output_type": "stream",
     "text": [
      "# of unique restaurants: 178\n",
      "\n",
      "# of restaurants that have been ordered from only once: 50\n",
      "\n"
     ]
    },
    {
     "data": {
      "text/plain": [
       "Shake Shack    219\n",
       "Name: restaurant_name, dtype: int64"
      ]
     },
     "execution_count": 27,
     "metadata": {},
     "output_type": "execute_result"
    }
   ],
   "source": [
    "# Exploring restaurants\n",
    "\n",
    "print('# of unique restaurants:', df['restaurant_name'].nunique(), end = '\\n'*2)\n",
    "\n",
    "print('# of restaurants that have been ordered from only once:', sum(df['restaurant_name'].value_counts().values < 2), end = '\\n'*2)\n",
    "\n",
    "# The restaurants with the highest no. of orders\n",
    "df['restaurant_name'].value_counts()[0:1]"
   ]
  },
  {
   "cell_type": "markdown",
   "metadata": {
    "id": "0ixJ2qtewlu4"
   },
   "source": [
    "#### Observations:\n",
    "\n",
    "*   There are 178 unique restaurants, indicating that many of them have been ordered from several times.\n",
    "*   50 restaurants have been chosen by the customers only once. These restaurants don't seem too popular, and business with them may not be too profitable for the company.\n",
    "*   Shake Shack with 219 orders is the most requested restaurant. We look into top-performing restaurants in more detail in the next questions.\n",
    "\n",
    "\n"
   ]
  },
  {
   "cell_type": "code",
   "execution_count": 28,
   "metadata": {
    "colab": {
     "base_uri": "https://localhost:8080/",
     "height": 551
    },
    "id": "VoRFLdzXx_BA",
    "outputId": "fb73ed50-192a-4881-bacd-3947057f8e8b"
   },
   "outputs": [
    {
     "name": "stdout",
     "output_type": "stream",
     "text": [
      "# of unique cuisine types: 14\n",
      "\n",
      "Top 5 cuisne types are:\n",
      "Index(['American', 'Japanese', 'Italian', 'Chinese', 'Mexican'], dtype='object')\n",
      "And they account for 86.62% of all orders.\n",
      "\n"
     ]
    },
    {
     "data": {
      "image/png": "[encoded data removed]",
      "text/plain": [
       "<Figure size 1008x432 with 1 Axes>"
      ]
     },
     "metadata": {
      "needs_background": "light"
     },
     "output_type": "display_data"
    }
   ],
   "source": [
    "# Exploring cuisines\n",
    "\n",
    "print('# of unique cuisine types:', df['cuisine_type'].nunique(), end = '\\n'*2)\n",
    "\n",
    "# The top 5 cuisine types\n",
    "print('Top 5 cuisne types are:')\n",
    "print(df['cuisine_type'].value_counts(normalize = True)[0:5].index)\n",
    "print('And they account for ', round(sum(df['cuisine_type'].value_counts(normalize = True)[0:5].values)*100, 2),\n",
    "      '% of all orders', sep = '', end = '.\\n\\n')\n",
    "\n",
    "# Countplot for all cuisines\n",
    "plt.figure(figsize = (14, 6));\n",
    "sns.countplot(data = df, x = 'cuisine_type');\n",
    "plt.xticks(rotation = 60);\n",
    "plt.xlabel('Cuisine');"
   ]
  },
  {
   "cell_type": "markdown",
   "metadata": {
    "id": "h5Ab-A1d0RMI"
   },
   "source": [
    "#### Observations:\n",
    "\n",
    "Although there are 14 different food types, the top 5 alone account for more than 85% of the orders. The company might want to connect and make deals with more restaurants providing these types of hoghly requested cuisines."
   ]
  },
  {
   "cell_type": "code",
   "execution_count": 29,
   "metadata": {
    "colab": {
     "base_uri": "https://localhost:8080/",
     "height": 332
    },
    "id": "AbBGdwkc1Dm4",
    "outputId": "6dda8c4e-aeb5-424b-f362-fd8b23e897c1"
   },
   "outputs": [
    {
     "data": {
      "text/plain": [
       "Weekend   0.71\n",
       "Weekday   0.29\n",
       "Name: day_of_the_week, dtype: float64"
      ]
     },
     "execution_count": 29,
     "metadata": {},
     "output_type": "execute_result"
    },
    {
     "data": {
      "image/png": "[encoded data removed]",
      "text/plain": [
       "<Figure size 432x288 with 1 Axes>"
      ]
     },
     "metadata": {
      "needs_background": "light"
     },
     "output_type": "display_data"
    }
   ],
   "source": [
    "# Exploring the impact of the day of the week\n",
    "\n",
    "sns.countplot(data = df, x = 'day_of_the_week', order = ['Weekday', 'Weekend']);\n",
    "plt.xlabel('Weekday/Weekend')\n",
    "\n",
    "df['day_of_the_week'].value_counts(normalize = True)"
   ]
  },
  {
   "cell_type": "markdown",
   "metadata": {
    "id": "FITiSv261U_d"
   },
   "source": [
    "#### Observations:\n",
    "\n",
    "As expected the business is dominated by the weekend orders, as they make up 71% of all orders. "
   ]
  },
  {
   "cell_type": "code",
   "execution_count": 30,
   "metadata": {
    "colab": {
     "base_uri": "https://localhost:8080/",
     "height": 560
    },
    "id": "Q2CVo6Cl2KDy",
    "outputId": "1fdfa687-133b-4e01-d03a-742b8672af87"
   },
   "outputs": [
    {
     "name": "stdout",
     "output_type": "stream",
     "text": [
      "Pre-imputation composition of ratings: \n",
      "Not given   0.39\n",
      "5           0.31\n",
      "4           0.20\n",
      "3           0.10\n",
      "Name: rating, dtype: float64\n",
      "\n",
      "Post-imputation composition of ratings: \n",
      "5.00   0.56\n",
      "4.00   0.34\n",
      "3.00   0.10\n",
      "Name: rating_imput, dtype: float64\n",
      "\n"
     ]
    },
    {
     "data": {
      "image/png": "[encoded data removed]",
      "text/plain": [
       "<Figure size 1080x360 with 2 Axes>"
      ]
     },
     "metadata": {
      "needs_background": "light"
     },
     "output_type": "display_data"
    }
   ],
   "source": [
    "# Exploring ratings before and after imputation\n",
    "\n",
    "print('Pre-imputation composition of ratings: \\n', data_orig['rating'].value_counts(normalize = True), sep = '', end = '\\n'*2)\n",
    "print('Post-imputation composition of ratings: \\n', df['rating_imput'].value_counts(normalize = True), sep = '', end = '\\n'*2)\n",
    "\n",
    "# Plotting the rating distribution before and after imputation\n",
    "plt.figure(figsize = (15,5))\n",
    "plt.subplot(1, 2, 1)\n",
    "sns.countplot(data = df, x = 'rating', order = ['3', '4', '5', 'Not given']);\n",
    "plt.xlabel('Pre-imputation Rating');\n",
    "plt.subplot(1, 2, 2)\n",
    "sns.countplot(data = df, x = 'rating_imput');\n",
    "plt.xlabel('Post-imputation Rating');"
   ]
  },
  {
   "cell_type": "markdown",
   "metadata": {
    "id": "JMYzkJc14aYh"
   },
   "source": [
    "#### Observations:\n",
    "\n",
    "However we have studied the ratings repeatedly, it's good to summarize some points that we've learned from them here:\n",
    "\n",
    "1.   Initially, 39% of the orders hadn't been rated. In fact, the most dominant category before imputation is 'Not given'. They could be left alone, but we chose to generate a new column including the imputed ratings by replacing the 'Not given' entries with the rounded median of each cuisine. \n",
    "2.   The overall distribution of the ratings doesn't change after imputation. We also showed that the median, mode and mean of the rating for the overall data and each cuisine type either don't change or are barely altered. \n",
    "3.   The percentage of 4- and 5-star ratings increases after imputation, as the rounded median of each cuisine type is either 4 or 5, but the ratio of 4-star and 5-star ratings remains nearly constant.   \n",
    "4.   Discarding the unrated orders, 5 is the most dominant rating before and after the imputation.  \n",
    "5. The dominance of 4 and 5 ratings (and the complete absence of 0-, 1- and 2-star reviews) reveals that customers are generally satisfied with the business. \n",
    "\n",
    "\n",
    "\n"
   ]
  },
  {
   "cell_type": "code",
   "execution_count": 31,
   "metadata": {
    "colab": {
     "base_uri": "https://localhost:8080/",
     "height": 541
    },
    "id": "g0UFfOoc7IBr",
    "outputId": "c1e9ac9a-a6a8-4560-985f-1fa1a6638230"
   },
   "outputs": [
    {
     "data": {
      "image/png": "[encoded data removed]",
      "text/plain": [
       "<Figure size 432x288 with 1 Axes>"
      ]
     },
     "metadata": {
      "needs_background": "light"
     },
     "output_type": "display_data"
    },
    {
     "data": {
      "image/png": "[encoded data removed]",
      "text/plain": [
       "<Figure size 432x288 with 1 Axes>"
      ]
     },
     "metadata": {
      "needs_background": "light"
     },
     "output_type": "display_data"
    }
   ],
   "source": [
    "# Exploring costs\n",
    "\n",
    "sns.histplot(data = df, x = 'cost_of_the_order', bins = 12, kde = True);\n",
    "plt.xlabel('Cost ($)');\n",
    "plt.show()\n",
    "\n",
    "sns.boxplot(data = df, x = 'cost_of_the_order');\n",
    "plt.xlabel('Cost ($)');"
   ]
  },
  {
   "cell_type": "markdown",
   "metadata": {
    "id": "YGddL92z9qs2"
   },
   "source": [
    "#### Observations:\n",
    "\n",
    "\n",
    "*   The cost distribution is somewhat right-skewed, as more people propbably order only for one person and choose from the less expensive restaurants/foods. \n",
    "*   There is no outlier value in the order costs.\n",
    "*   The mode and the median are located around 12 USD and 14 USD, respectively.\n",
    "\n",
    "\n"
   ]
  },
  {
   "cell_type": "code",
   "execution_count": 32,
   "metadata": {
    "colab": {
     "base_uri": "https://localhost:8080/",
     "height": 541
    },
    "id": "JzMJs29S-Txl",
    "outputId": "52d524d6-9ea3-48ff-a0e9-ab1579141260"
   },
   "outputs": [
    {
     "data": {
      "image/png": "[encoded data removed]",
      "text/plain": [
       "<Figure size 432x288 with 1 Axes>"
      ]
     },
     "metadata": {
      "needs_background": "light"
     },
     "output_type": "display_data"
    },
    {
     "data": {
      "image/png": "[encoded data removed]",
      "text/plain": [
       "<Figure size 432x288 with 1 Axes>"
      ]
     },
     "metadata": {
      "needs_background": "light"
     },
     "output_type": "display_data"
    }
   ],
   "source": [
    "# Exploring food preparation time\n",
    "\n",
    "sns.histplot(data = df, x = 'food_preparation_time', bins = 13, kde = True);\n",
    "plt.xlabel('Food Preparation Time (min.)');\n",
    "plt.show()\n",
    "\n",
    "sns.boxplot(data = df, x = 'food_preparation_time');\n",
    "plt.xlabel('Food Preparation Time (min.)');"
   ]
  },
  {
   "cell_type": "markdown",
   "metadata": {
    "id": "NTw5VVid_Ai_"
   },
   "source": [
    "#### Observations:\n",
    "\n",
    "\n",
    "\n",
    "\n",
    "*   The distribution of the food preparation time looks quite uniform, and the probability density function remains fairly constant across all different preparation times.\n",
    "*   No outliers is observed in the boxplot, and the distribution is not really skewed to any directions. In fact, its median (27) and mean (27.37) are nearly equal.\n",
    "*   There are a few peaks in the histogram of food preparation time: One for the easy foods that can be prepared quite fast, one in the middle for the average foods in terms of complexity, and one for the time-consuming foods whose preparation can be somewhat complicated. The company would benefit from consulting with the restaurants making the foods in the latter group, to come up with the solutions that can reduce their preparation time.\n",
    "   \n",
    "\n",
    "\n"
   ]
  },
  {
   "cell_type": "code",
   "execution_count": 33,
   "metadata": {
    "colab": {
     "base_uri": "https://localhost:8080/",
     "height": 545
    },
    "id": "DArg9VQX_FDJ",
    "outputId": "d8fa5d6b-9f0e-44b8-f81f-49eef352bedd"
   },
   "outputs": [
    {
     "data": {
      "image/png": "[encoded data removed]",
      "text/plain": [
       "<Figure size 432x288 with 1 Axes>"
      ]
     },
     "metadata": {
      "needs_background": "light"
     },
     "output_type": "display_data"
    },
    {
     "data": {
      "image/png": "[encoded data removed]",
      "text/plain": [
       "<Figure size 432x288 with 1 Axes>"
      ]
     },
     "metadata": {
      "needs_background": "light"
     },
     "output_type": "display_data"
    }
   ],
   "source": [
    "# Exploring delivery time\n",
    "\n",
    "sns.histplot(data = df, x = 'delivery_time', binwidth = 2, kde = True);\n",
    "plt.xlabel('Delivery Time (min.)');\n",
    "plt.show()\n",
    "\n",
    "sns.boxplot(data = df, x = 'delivery_time');\n",
    "plt.xlabel('Delivery Time (min.)');"
   ]
  },
  {
   "cell_type": "markdown",
   "metadata": {
    "id": "M62nKILkI4Y9"
   },
   "source": [
    "#### Observations:\n",
    "\n",
    "*   The bin width is chosen equal to 2, which sounds reasonable when range = 18.\n",
    "*   The distribution is somewhat left-skewed, with mode and median falling on 24 and 25, respectively, suggesting that for most orders delivery is somewhat slow.\n",
    "*   Similar to other numerical variables, delivery time also has no outliers.\n"
   ]
  },
  {
   "cell_type": "markdown",
   "metadata": {
    "id": "K9CqA5H_JY_U"
   },
   "source": [
    "### **Question 7**: Which are the top 5 restaurants in terms of the number of orders received? [1 mark]"
   ]
  },
  {
   "cell_type": "code",
   "execution_count": 34,
   "metadata": {
    "colab": {
     "base_uri": "https://localhost:8080/"
    },
    "id": "PaJZ3wlOJY_U",
    "outputId": "ef6538a3-cc2a-4353-89b5-38305fe213a3"
   },
   "outputs": [
    {
     "data": {
      "text/plain": [
       "Shake Shack                  219\n",
       "The Meatball Shop            132\n",
       "Blue Ribbon Sushi            119\n",
       "Blue Ribbon Fried Chicken     96\n",
       "Parm                          68\n",
       "Name: restaurant_name, dtype: int64"
      ]
     },
     "execution_count": 34,
     "metadata": {},
     "output_type": "execute_result"
    }
   ],
   "source": [
    "# Using sorted value_counts on the name of the restaurants, and displying only the top 5\n",
    "df['restaurant_name'].value_counts(ascending = False)[0:5]"
   ]
  },
  {
   "cell_type": "markdown",
   "metadata": {
    "id": "tnjhWgUfJY_U"
   },
   "source": [
    "#### Observations:\n",
    "Shake Shack, The Meatball Shop, Blue Ribbon Sushi, Blue Ribbon Fried Chicken and Parm are respectively the top 5."
   ]
  },
  {
   "cell_type": "markdown",
   "metadata": {
    "id": "gWPMqGq0JY_U"
   },
   "source": [
    "### **Question 8**: Which is the most popular cuisine on weekends? [1 mark]"
   ]
  },
  {
   "cell_type": "code",
   "execution_count": 35,
   "metadata": {
    "colab": {
     "base_uri": "https://localhost:8080/"
    },
    "id": "c-Xnus3VJY_U",
    "outputId": "341430cd-acda-4d39-e5be-5b3a796de4a2"
   },
   "outputs": [
    {
     "name": "stdout",
     "output_type": "stream",
     "text": [
      "The most popular weekend cuisine is American which has been ordered 415 times, during this period.\n"
     ]
    }
   ],
   "source": [
    "most_popular_cuisine = df.loc[df['day_of_the_week'] == 'Weekend']['cuisine_type'].mode()[0]\n",
    "no_of_orders = df.loc[df['day_of_the_week'] == 'Weekend']['cuisine_type'].value_counts()[0]\n",
    "print('The most popular weekend cuisine is', most_popular_cuisine, \n",
    "      'which has been ordered', no_of_orders, 'times, during this period.')"
   ]
  },
  {
   "cell_type": "markdown",
   "metadata": {
    "id": "bpQ270TUJY_U"
   },
   "source": [
    "#### Observations: American is the most popular weekend food, with being ordered 415 times during this period.\n"
   ]
  },
  {
   "cell_type": "markdown",
   "metadata": {
    "id": "88xgTqkxJY_U"
   },
   "source": [
    "### **Question 9**: What percentage of the orders cost more than 20 dollars? [2 marks]"
   ]
  },
  {
   "cell_type": "code",
   "execution_count": 36,
   "metadata": {
    "colab": {
     "base_uri": "https://localhost:8080/"
    },
    "id": "OTpHyTdzJY_U",
    "outputId": "139d99ae-d225-4bd4-d028-4c2927f82f20"
   },
   "outputs": [
    {
     "name": "stdout",
     "output_type": "stream",
     "text": [
      "29.24%.\n"
     ]
    }
   ],
   "source": [
    "# Calculating the # of orders valued above 20 \n",
    "food_above_20 = df.loc[df['cost_of_the_order'] > 20].shape[0]\n",
    "\n",
    "print(round(food_above_20/df.shape[0]*100, 2), '%.', sep = '')"
   ]
  },
  {
   "cell_type": "markdown",
   "metadata": {
    "id": "77KNAC5zJY_U"
   },
   "source": [
    "#### Observations: About 29% of the orders cost more than 20 USD.\n"
   ]
  },
  {
   "cell_type": "markdown",
   "metadata": {
    "id": "HFyHn7hsJY_V"
   },
   "source": [
    "### **Question 10**: What is the mean order delivery time? [1 mark]"
   ]
  },
  {
   "cell_type": "code",
   "execution_count": 37,
   "metadata": {
    "colab": {
     "base_uri": "https://localhost:8080/"
    },
    "id": "cyFL13hNJY_V",
    "outputId": "a7325d60-9870-4ba0-91cf-ff8dfa9bb356"
   },
   "outputs": [
    {
     "name": "stdout",
     "output_type": "stream",
     "text": [
      "24.16 mins.\n"
     ]
    }
   ],
   "source": [
    "print(round(df['delivery_time'].mean(), 2), 'mins.')"
   ]
  },
  {
   "cell_type": "markdown",
   "metadata": {
    "id": "F35SRV-HJY_V"
   },
   "source": [
    "#### Observations: On average, it takes 24.16 minutes for an order to be delivered.\n"
   ]
  },
  {
   "cell_type": "markdown",
   "metadata": {
    "id": "48IjaOuDJY_V"
   },
   "source": [
    "### **Question 11:** The company has decided to give 20% discount vouchers to the top 3 most frequent customers. Find the IDs of these customers and the number of orders they placed. [1 mark]"
   ]
  },
  {
   "cell_type": "code",
   "execution_count": 38,
   "metadata": {
    "colab": {
     "base_uri": "https://localhost:8080/"
    },
    "id": "Hz8-DE4Zge0j",
    "outputId": "f41052a3-c480-4901-a0eb-e568066227fd"
   },
   "outputs": [
    {
     "data": {
      "text/plain": [
       "52832    13\n",
       "47440    10\n",
       "83287     9\n",
       "Name: customer_id, dtype: int64"
      ]
     },
     "execution_count": 38,
     "metadata": {},
     "output_type": "execute_result"
    }
   ],
   "source": [
    "# Printing the # of orders from the top 3 frequent customers\n",
    "df['customer_id'].value_counts()[0:3]"
   ]
  },
  {
   "cell_type": "markdown",
   "metadata": {
    "id": "9tWVwfX6JY_V"
   },
   "source": [
    "#### Observations: Customers with the id numbers 52832, 47440 and 83287 are entitled for the vouchers, and they've respectively placed 13, 10 and 9 orders.\n"
   ]
  },
  {
   "cell_type": "markdown",
   "metadata": {
    "id": "AfIc2jPaJY_V"
   },
   "source": [
    "### Multivariate Analysis"
   ]
  },
  {
   "cell_type": "markdown",
   "metadata": {
    "id": "iqiS0RT_JY_V"
   },
   "source": [
    "### **Question 12**: Perform a multivariate analysis to explore relationships between the important variables in the dataset. (It is a good idea to explore relations between numerical variables as well as relations between numerical and categorical variables) [10 marks]\n"
   ]
  },
  {
   "cell_type": "markdown",
   "metadata": {
    "id": "av4DjIqpAtXN"
   },
   "source": [
    "#### Cuisine vs. Cost:"
   ]
  },
  {
   "cell_type": "code",
   "execution_count": 39,
   "metadata": {
    "colab": {
     "base_uri": "https://localhost:8080/",
     "height": 497
    },
    "id": "3qt4MCNTJY_V",
    "outputId": "9768a7fb-fd01-4c8e-ec2a-fbe0d9d0e147"
   },
   "outputs": [
    {
     "data": {
      "image/png": "[encoded data removed]",
      "text/plain": [
       "<Figure size 1080x576 with 1 Axes>"
      ]
     },
     "metadata": {
      "needs_background": "light"
     },
     "output_type": "display_data"
    }
   ],
   "source": [
    "# Relationship between costs and cuisines\n",
    "\n",
    "# sorting cuisines alphabetically\n",
    "cuisines_sorted = list(set(df['cuisine_type'].values))\n",
    "cuisines_sorted.sort()\n",
    "\n",
    "plt.figure(figsize = (15, 8))\n",
    "sns.boxplot(data = df, y = 'cuisine_type', x = 'cost_of_the_order', order = cuisines_sorted);\n",
    "plt.xlabel('Cost ($)');\n",
    "plt.ylabel('Cuisine');\n"
   ]
  },
  {
   "cell_type": "code",
   "execution_count": 40,
   "metadata": {
    "colab": {
     "base_uri": "https://localhost:8080/"
    },
    "id": "6mqHF5qkCdrx",
    "outputId": "51437878-c7bd-49db-a1ba-2beab6b3cd69"
   },
   "outputs": [
    {
     "name": "stdout",
     "output_type": "stream",
     "text": [
      "The median of the order cost for different cuisines ($):\n",
      "cuisine_type\n",
      "French           20.47\n",
      "Thai             19.35\n",
      "Spanish          16.52\n",
      "Middle Eastern   16.30\n",
      "Indian           16.15\n",
      "Southern         16.11\n",
      "Mexican          15.57\n",
      "Italian          14.48\n",
      "American         14.12\n",
      "Chinese          14.12\n",
      "Japanese         14.07\n",
      "Mediterranean    14.00\n",
      "Korean           12.18\n",
      "Vietnamese       12.13\n",
      "Name: cost_of_the_order, dtype: float64\n",
      "\n",
      "The mean of the order cost for different cuisines ($):\n",
      "cuisine_type\n",
      "French           19.79\n",
      "Southern         19.30\n",
      "Thai             19.21\n",
      "Spanish          18.99\n",
      "Middle Eastern   18.82\n",
      "Mexican          16.93\n",
      "Indian           16.92\n",
      "Italian          16.42\n",
      "American         16.32\n",
      "Chinese          16.31\n",
      "Japanese         16.30\n",
      "Mediterranean    15.47\n",
      "Korean           14.00\n",
      "Vietnamese       12.88\n",
      "Name: cost_of_the_order, dtype: float64\n",
      "\n"
     ]
    }
   ],
   "source": [
    "# Relationship between costs and cuisines\n",
    "\n",
    "print('The median of the order cost for different cuisines ($):\\n', \n",
    "      df.groupby(['cuisine_type'])['cost_of_the_order'].median().sort_values(ascending = False), sep = '', end = '\\n'*2)\n",
    "\n",
    "print('The mean of the order cost for different cuisines ($):\\n', \n",
    "      df.groupby(['cuisine_type'])['cost_of_the_order'].mean().sort_values(ascending = False), sep = '', end = '\\n'*2)"
   ]
  },
  {
   "cell_type": "markdown",
   "metadata": {
    "id": "NKdi0zWm8rQT"
   },
   "source": [
    "#### Observations:\n",
    "\n",
    "\n",
    "\n",
    "*   Vietnamese and Korean cuisines are the cheapest ones with medians around 12. \n",
    "*   The French is the most expensive cuisine, with its median exceeding 20. Thai has the second largest median, which equals 19.35. \n",
    "*   The medians of the remaining food types are more or less are close to each other and fall around 15. \n",
    "*   French and Thai cost a lot on average too, with them having the the highest and third highest average prices. The mean costs of Southern, Spanish and Middle Eastern cuisines also fall close to these two, due their highy right-skewed distributions.\n",
    "*   Korean exhibits some very cheap and very expensive outliers. Mediterranean and Vietnamese have some expensive outliers. Other cuisines don't reveal any outliers.  \n",
    "\n",
    "\n",
    "\n",
    "\n"
   ]
  },
  {
   "cell_type": "markdown",
   "metadata": {
    "id": "PKxrjDLVA05x"
   },
   "source": [
    "#### Cuisine vs. Preparation Time:"
   ]
  },
  {
   "cell_type": "code",
   "execution_count": 41,
   "metadata": {
    "colab": {
     "base_uri": "https://localhost:8080/",
     "height": 497
    },
    "id": "pZFD6U7yA4AR",
    "outputId": "a6f9f372-4fc3-4ddb-927d-b310cc396c32"
   },
   "outputs": [
    {
     "data": {
      "image/png": "[encoded data removed]",
      "text/plain": [
       "<Figure size 1080x576 with 1 Axes>"
      ]
     },
     "metadata": {
      "needs_background": "light"
     },
     "output_type": "display_data"
    }
   ],
   "source": [
    "# Relationship between food preparation times and cuisines\n",
    "\n",
    "# sorting cuisines alphabetically\n",
    "cuisines_sorted = list(set(df['cuisine_type'].values))\n",
    "cuisines_sorted.sort()\n",
    "\n",
    "plt.figure(figsize = (15, 8))\n",
    "sns.boxplot(data = df, y = 'cuisine_type', x = 'food_preparation_time', order = cuisines_sorted);\n",
    "plt.xlabel('Prep. Time (min.)');\n",
    "plt.ylabel('Cuisine');"
   ]
  },
  {
   "cell_type": "code",
   "execution_count": 42,
   "metadata": {
    "colab": {
     "base_uri": "https://localhost:8080/"
    },
    "id": "8m3BoY8RCMoa",
    "outputId": "75035c08-34ab-4005-c7b1-6d850788ed23"
   },
   "outputs": [
    {
     "name": "stdout",
     "output_type": "stream",
     "text": [
      "The median of the preparation times for different cuisines (min.):\n",
      "cuisine_type\n",
      "Italian          28.00\n",
      "Thai             28.00\n",
      "Japanese         27.50\n",
      "Spanish          27.50\n",
      "American         27.00\n",
      "Chinese          27.00\n",
      "Indian           27.00\n",
      "Mediterranean    27.00\n",
      "Middle Eastern   27.00\n",
      "Mexican          26.00\n",
      "Southern         26.00\n",
      "French           25.50\n",
      "Korean           25.00\n",
      "Vietnamese       25.00\n",
      "Name: food_preparation_time, dtype: float64\n",
      "\n",
      "The mean of the preparation times for different cuisines (min.):\n",
      "cuisine_type\n",
      "Southern         27.59\n",
      "Chinese          27.51\n",
      "Japanese         27.51\n",
      "Italian          27.48\n",
      "American         27.44\n",
      "Thai             27.32\n",
      "Indian           27.11\n",
      "Mediterranean    27.00\n",
      "Spanish          26.92\n",
      "French           26.89\n",
      "Mexican          26.73\n",
      "Middle Eastern   26.67\n",
      "Vietnamese       25.71\n",
      "Korean           25.46\n",
      "Name: food_preparation_time, dtype: float64\n",
      "\n"
     ]
    }
   ],
   "source": [
    "# Relationship between food preparation times and cuisines\n",
    "\n",
    "print('The median of the preparation times for different cuisines (min.):\\n', \n",
    "      df.groupby(['cuisine_type'])['food_preparation_time'].median().sort_values(ascending = False), sep = '', end = '\\n'*2)\n",
    "\n",
    "print('The mean of the preparation times for different cuisines (min.):\\n', \n",
    "      df.groupby(['cuisine_type'])['food_preparation_time'].mean().sort_values(ascending = False), sep = '', end = '\\n'*2)"
   ]
  },
  {
   "cell_type": "markdown",
   "metadata": {
    "id": "pq6Vj9DuCyW-"
   },
   "source": [
    "#### Observations:\n",
    "\n",
    "\n",
    "*   The median preparation time of all cuisines fall in the narrow range of 25 mins. to 28 mins., with Italian and Thai occupying the top of the list and Korean and Vietnamese residing at the bottom.  \n",
    "*   The Southern, Chinese and Japanese cuisines, however, top the mean preparation time list, owing to their right-skewed distributions. Nevertheless, the average food preparation time for all cuisines also lies in a very narrow range (~25.5 mins. to ~27.5 mins.).  \n",
    "*   Vietnamese and Korean foods still have the lowest average preparation times.\n",
    "*   Except Korean, no other cuisine shows any outliers, which is a good sign, as it makes this parameter predictable.     \n"
   ]
  },
  {
   "cell_type": "markdown",
   "metadata": {
    "id": "CMaKM31iFY2C"
   },
   "source": [
    "#### Day of the Week vs. Preparation Time:\n",
    "\n"
   ]
  },
  {
   "cell_type": "code",
   "execution_count": 43,
   "metadata": {
    "colab": {
     "base_uri": "https://localhost:8080/",
     "height": 279
    },
    "id": "q31vdq-hFXLN",
    "outputId": "1092ab93-f616-4a7b-dc42-d50e3f2f072a"
   },
   "outputs": [
    {
     "data": {
      "image/png": "[encoded data removed]",
      "text/plain": [
       "<Figure size 576x288 with 1 Axes>"
      ]
     },
     "metadata": {
      "needs_background": "light"
     },
     "output_type": "display_data"
    }
   ],
   "source": [
    "# Relationship between food preparation times and day of the week\n",
    "\n",
    "plt.figure(figsize = (8, 4));\n",
    "sns.boxplot(data = df, x = 'food_preparation_time', y = 'day_of_the_week');\n",
    "plt.xlabel('Prep. Time (min.)');\n",
    "plt.ylabel('Weekday/Weekend');"
   ]
  },
  {
   "cell_type": "markdown",
   "metadata": {
    "id": "Eq9p-HKpJN4b"
   },
   "source": [
    "#### Observations:\n",
    "\n",
    "One might suspect that the high demand on the weekends may slow down the food preparation process, but in general, no notable change in preparation time appears between weekdays and weekends. That may not hold for a certain restaurant or a certain cuisine."
   ]
  },
  {
   "cell_type": "markdown",
   "metadata": {
    "id": "9r7eY1T7J-cq"
   },
   "source": [
    "#### Day of the Week vs. Delivery Time:\n"
   ]
  },
  {
   "cell_type": "code",
   "execution_count": 44,
   "metadata": {
    "colab": {
     "base_uri": "https://localhost:8080/",
     "height": 279
    },
    "id": "iQtExrV1J6y3",
    "outputId": "310f9a85-529b-4244-ed08-f3ebb515ca36"
   },
   "outputs": [
    {
     "data": {
      "image/png": "[encoded data removed]",
      "text/plain": [
       "<Figure size 576x288 with 1 Axes>"
      ]
     },
     "metadata": {
      "needs_background": "light"
     },
     "output_type": "display_data"
    }
   ],
   "source": [
    "# Relationship between delivery times and day of the week\n",
    "\n",
    "plt.figure(figsize = (8, 4));\n",
    "sns.boxplot(data = df, x = 'delivery_time', y = 'day_of_the_week');\n",
    "plt.xlabel('Delivery Time (min.)');\n",
    "plt.ylabel('Weekday/Weekend');"
   ]
  },
  {
   "cell_type": "code",
   "execution_count": 45,
   "metadata": {
    "colab": {
     "base_uri": "https://localhost:8080/"
    },
    "id": "7zAnrpHDLClm",
    "outputId": "367af6e3-b001-4703-8bde-e9afefa41097"
   },
   "outputs": [
    {
     "name": "stdout",
     "output_type": "stream",
     "text": [
      "Percentage of change in mean delivery time from weekends to weekdays: 26.12%\n",
      "Percentage of change in median delivery time from weekends to weekdays: 27.27%\n"
     ]
    }
   ],
   "source": [
    "# Changes in mean and median of delivery times during the week\n",
    "\n",
    "mean_change = (df.groupby(['day_of_the_week']).delivery_time.mean()[0] - \n",
    "    df.groupby(['day_of_the_week']).delivery_time.mean()[1])/df.groupby(['day_of_the_week']).delivery_time.mean()[1]\n",
    "\n",
    "median_change = (df.groupby(['day_of_the_week']).delivery_time.median()[0] - \n",
    "    df.groupby(['day_of_the_week']).delivery_time.median()[1])/df.groupby(['day_of_the_week']).delivery_time.median()[1]\n",
    "\n",
    "print('Percentage of change in mean delivery time from weekends to weekdays: ', round(mean_change*100, 2), '%', sep = '')    \n",
    "print('Percentage of change in median delivery time from weekends to weekdays: ', round(median_change*100, 2), '%', sep = '')    "
   ]
  },
  {
   "cell_type": "markdown",
   "metadata": {
    "id": "vjRu2Y-oM8oS"
   },
   "source": [
    "#### Observations:\n",
    "\n",
    "Due to higher weekday traffick or other factors, the delivery time over weekends is significantly slower than that of weekdays."
   ]
  },
  {
   "cell_type": "markdown",
   "metadata": {
    "id": "cp48ZF4ENhQ3"
   },
   "source": [
    "#### Best-performing Restaurants:\n",
    "\n",
    "Here we find out which restaurants generate the higest revenues."
   ]
  },
  {
   "cell_type": "code",
   "execution_count": 46,
   "metadata": {
    "colab": {
     "base_uri": "https://localhost:8080/"
    },
    "id": "MwbxAuFSNyP2",
    "outputId": "8dd9fea4-8fe0-4e10-e1c3-039ce9d8b2ec"
   },
   "outputs": [
    {
     "name": "stdout",
     "output_type": "stream",
     "text": [
      "The revenue generated by top 10 restaurants ($):\n",
      "restaurant_name\n",
      "Shake Shack                     3579.53\n",
      "The Meatball Shop               2145.21\n",
      "Blue Ribbon Sushi               1903.95\n",
      "Blue Ribbon Fried Chicken       1662.29\n",
      "Parm                            1112.76\n",
      "RedFarm Broadway                 965.13\n",
      "RedFarm Hudson                   921.21\n",
      "TAO                              834.50\n",
      "Han Dynasty                      755.29\n",
      "Blue Ribbon Sushi Bar & Grill    666.62\n",
      "Name: cost_of_the_order, dtype: float64\n",
      "\n",
      "Cuisine of the top 10 revenue-generating restaurants:\n"
     ]
    },
    {
     "data": {
      "text/plain": [
       "{'American', 'Chinese', 'Italian', 'Japanese'}"
      ]
     },
     "execution_count": 46,
     "metadata": {},
     "output_type": "execute_result"
    }
   ],
   "source": [
    "# Best-performing restaurants\n",
    "\n",
    "print('The revenue generated by top 10 restaurants ($):')\n",
    "print(df.groupby(['restaurant_name'])['cost_of_the_order'].sum().sort_values(ascending = False)[0:10], end = '\\n'*2)\n",
    "\n",
    "# generating a list of top 10 restaurants \n",
    "top_restaurants = list(df.groupby(['restaurant_name'])['cost_of_the_order'].sum().sort_values(ascending = False)[0:10].index)\n",
    "\n",
    "cuisine_of_top_restaurants = top_restaurants.copy()\n",
    "\n",
    "# Iterating on top 10 restaurants to find out their cuisines\n",
    "for i, text in enumerate(top_restaurants):\n",
    "  cuisine_of_top_restaurants[i] = df[df['restaurant_name'] == text].cuisine_type.reset_index(drop = True)[0]\n",
    "\n",
    "print('Cuisine of the top 10 revenue-generating restaurants:')\n",
    "set(cuisine_of_top_restaurants)"
   ]
  },
  {
   "cell_type": "markdown",
   "metadata": {
    "id": "JmwQiGJ-OsFQ"
   },
   "source": [
    "#### Observations:\n",
    "\n",
    "\n",
    "*   The top 5 revenue-generating restaurants, in the same order, match the top 5 requested restaurants studied in Q5. \n",
    "*   The cuisine of these top 10 restaurants are American, Chinese, Italian and Japanese, which are in fact the top 4 requested cuisines (look at the univariate analysis). \n",
    "\n"
   ]
  },
  {
   "cell_type": "markdown",
   "metadata": {
    "id": "t0CHCvQebXRJ"
   },
   "source": [
    "#### Multivariate Analysis of Numerical Variables:\n",
    "\n",
    "Here, we add a new column to the dataset, called total_time, which measures how much it takes for the order to get to the hand of the customer from the time the order has been placed, so basically:\n",
    "\n",
    "total_time = food_preparation_time + delivery_time\n",
    "\n",
    "We suspect this variable might be correlated with the ratings more strongly than the preparation and delivery times."
   ]
  },
  {
   "cell_type": "code",
   "execution_count": 47,
   "metadata": {
    "colab": {
     "base_uri": "https://localhost:8080/",
     "height": 483
    },
    "id": "E4t4B4VbbQzk",
    "outputId": "863a4c25-4b18-4f96-9193-7a5224ce5dbb"
   },
   "outputs": [
    {
     "data": {
      "image/png": "[encoded data removed]",
      "text/plain": [
       "<Figure size 720x576 with 1 Axes>"
      ]
     },
     "metadata": {
      "needs_background": "light"
     },
     "output_type": "display_data"
    }
   ],
   "source": [
    "# Studying the correlation between numerical variables\n",
    "\n",
    "# creating a list of numerical variables\n",
    "num_variables = ['cost_of_the_order', 'rating_num', 'rating_imput', 'food_preparation_time', 'delivery_time', 'total_time']\n",
    "\n",
    "# creating the total time column\n",
    "df['total_time'] = df['food_preparation_time'] + df['delivery_time']\n",
    "\n",
    "plt.figure(figsize = (10, 8));\n",
    "heatmap_fig = sns.heatmap(data = df[num_variables].corr(), annot = True, cmap = 'seismic', vmin = -1, vmax = 1, cbar = False);\n",
    "heatmap_fig.set_xticklabels(labels = ['Cost', 'Rating', 'Rating (Imputed)', 'Prep. Time', 'Delivery Time', 'Total Time'], rotation = 0);\n",
    "heatmap_fig.set_yticklabels(labels = ['Cost', 'Rating', 'Rating (Imputed)', 'Prep. Time', 'Delivery Time', 'Total Time'], rotation = 0);\n"
   ]
  },
  {
   "cell_type": "markdown",
   "metadata": {
    "id": "KBluLsa0eahK"
   },
   "source": [
    "#### Observations:\n",
    "\n",
    "\n",
    "*   There's nearly no correlation between the rating (before and after imputation) and the three time-related variables. The same goes for the correlation between the cost of the orer and these temporal variables. Regardless we further investigate these in separate, more detailed plots.\n",
    "*   Before imputation, all time variables have a negative, but very small, correlation with the the rating, as anticipated (extra wait -> less satisfaction). Total time has the highest negative correlation. Some of these correlations become positive after imputations, but in general, these changes are not of any practical importance, because the correlations (pre/post imputation) are really insignificant.  \n",
    "*   Cost of the order and rating have negligible positive and negative correlation with the preparation time, respectively, as one would expect (more expensive foods may take more time to be made but this additional waiting may dissatisfy the customer), but both correlations are so vanishingly small that can readily be ignored. \n",
    "*   There's a vanishingly small corrlation between the cost and rating (pre- or post-imputation), suggesting that more expensive foods are typically of higher quality, but this is not a strong inference, as the correlation coefficient is really small.  \n",
    "*   There is a natural correlation between total time and delivery and preparation times, since the former is calculated as the summation of the latter, but again, it's very trivial and doesn't provide any new insight.\n"
   ]
  },
  {
   "cell_type": "markdown",
   "metadata": {
    "id": "s1d004LKjGK3"
   },
   "source": [
    "#### Cost vs. Temporal Variables:"
   ]
  },
  {
   "cell_type": "code",
   "execution_count": 48,
   "metadata": {
    "colab": {
     "base_uri": "https://localhost:8080/",
     "height": 334
    },
    "id": "C24xJsdhjnmP",
    "outputId": "b280f793-df06-4189-da1c-973b13fa50fe"
   },
   "outputs": [
    {
     "data": {
      "image/png": "[encoded data removed]",
      "text/plain": [
       "<Figure size 1440x360 with 3 Axes>"
      ]
     },
     "metadata": {
      "needs_background": "light"
     },
     "output_type": "display_data"
    }
   ],
   "source": [
    "# cost vs. food preparation time\n",
    "\n",
    "# separating temporal variables from other numerical variables \n",
    "time_variables = num_variables[-3:] \n",
    "\n",
    "# plotting the potential correlation between cost and time variables\n",
    "plt.figure(figsize = (20, 5))\n",
    "for i, text in enumerate(time_variables):\n",
    "  plt.subplot(1, 3, i+1)\n",
    "  sns.regplot(data = df, x = text, y = 'cost_of_the_order', ci = False);\n",
    "  if(text == 'food_preparation_time'):\n",
    "    plt.xlabel('Prep. Time (min.)');\n",
    "  elif(text == 'delivery_time'):\n",
    "    plt.xlabel('Delivery Time (min.)');\n",
    "  else:\n",
    "    plt.xlabel('Total Time (min.)');\n",
    "  plt.ylabel('Cost ($)');"
   ]
  },
  {
   "cell_type": "markdown",
   "metadata": {
    "id": "d27UZ1jfjn6J"
   },
   "source": [
    "#### Observations:\n",
    "\n",
    "These plots substantiate the finding of the heatmap that there is no correlation between cost and any of the time variables, as the points in these plots are all over the place and the slopes of the best fits are nearly zero."
   ]
  },
  {
   "cell_type": "markdown",
   "metadata": {
    "id": "PGt5dsfVjWdM"
   },
   "source": [
    "#### Rating vs. Temporal Variables:"
   ]
  },
  {
   "cell_type": "code",
   "execution_count": 49,
   "metadata": {
    "colab": {
     "base_uri": "https://localhost:8080/",
     "height": 334
    },
    "id": "Qp6kP0JljrSF",
    "outputId": "fcf33a5b-6e5b-49f4-87dd-0533ec734b24"
   },
   "outputs": [
    {
     "data": {
      "image/png": "[encoded data removed]",
      "text/plain": [
       "<Figure size 1440x360 with 3 Axes>"
      ]
     },
     "metadata": {
      "needs_background": "light"
     },
     "output_type": "display_data"
    }
   ],
   "source": [
    "# cost vs. food preparation time\n",
    "\n",
    "# plotting the potential correlation between cost and time variables\n",
    "plt.figure(figsize = (20, 5))\n",
    "for i, text in enumerate(time_variables):\n",
    "  plt.subplot(1, 3, i+1)\n",
    "  sns.pointplot(data = df, estimator = np.mean, x = 'rating', y = text, order = ['3', '4', '5', 'Not given'], ci = 'sd');\n",
    "  if(text == 'food_preparation_time'):\n",
    "    plt.ylabel('Prep. Time (min.)');\n",
    "  elif(text == 'delivery_time'):\n",
    "    plt.ylabel('Delivery Time (min.)');\n",
    "  else:\n",
    "    plt.ylabel('Total Time (min.)');\n",
    "  plt.xlabel('Rating');"
   ]
  },
  {
   "cell_type": "markdown",
   "metadata": {
    "id": "IithJmeMjr-u"
   },
   "source": [
    "#### Observations:\n",
    "\n",
    "*   As can be seen from the plots, there is no salient relationship between the ratings and the time variables. For all of them, the mean changes very insignificantly with the ratings, compared to all possible values that a certain time variable can acquire.  \n",
    "*   The vertical lines signify one standard deviation below and above the mean. They've been shown to highlight that the variation in the mean of temporal variables with the rating is negligible in comparison with all the values that these variables can take (and the range in which they can fluctuate), for a certain rating. \n",
    "\n"
   ]
  },
  {
   "cell_type": "markdown",
   "metadata": {
    "id": "5JK7EZtAEY38"
   },
   "source": [
    "#### Cost vs. Rating:"
   ]
  },
  {
   "cell_type": "code",
   "execution_count": 50,
   "metadata": {
    "colab": {
     "base_uri": "https://localhost:8080/",
     "height": 279
    },
    "id": "UYBnCeoxEvJw",
    "outputId": "8dd9e569-f95a-4e56-f8e1-d5d71221b8a1"
   },
   "outputs": [
    {
     "data": {
      "image/png": "[encoded data removed]",
      "text/plain": [
       "<Figure size 576x288 with 1 Axes>"
      ]
     },
     "metadata": {
      "needs_background": "light"
     },
     "output_type": "display_data"
    }
   ],
   "source": [
    "# cost vs. rating \n",
    "\n",
    "plt.figure(figsize = (8, 4))\n",
    "sns.pointplot(data = df, estimator = np.mean, x = 'rating', y = 'cost_of_the_order', order = ['3', '4', '5', 'Not given'], ci = 'sd');\n",
    "plt.xlabel('Rating');\n",
    "plt.ylabel('Cost ($)');"
   ]
  },
  {
   "cell_type": "markdown",
   "metadata": {
    "id": "Xzex544BElUR"
   },
   "source": [
    "#### Observations:\n",
    "\n",
    "As the cost of the food increases, there is a slight, incremental growth in the rating for the rated orders, possibly because the food quality also has some positive correlation with the cost, but this trend is negligible, as the change in the average cost across different ratings remains quite small in comparison with the range in which the cost of the order can fluctuate. The vertical lines, indicating one standard deviation below and above the mean, have been displayed to underline this fact."
   ]
  },
  {
   "cell_type": "markdown",
   "metadata": {
    "id": "YLkMf09YJY_V"
   },
   "source": [
    "### **Question 13:** The company wants to provide a promotional offer in the advertisement of the restaurants. The condition to get the offer is that the restaurants must have a rating count of more than 50 and the average rating should be greater than 4. Find the restaurants fulfilling the criteria to get the promotional offer. [3 marks]"
   ]
  },
  {
   "cell_type": "code",
   "execution_count": 51,
   "metadata": {
    "colab": {
     "base_uri": "https://localhost:8080/"
    },
    "id": "0M_QDvbYJY_V",
    "outputId": "2c318d03-1f88-4506-95b7-8b0e39b8788a"
   },
   "outputs": [
    {
     "name": "stdout",
     "output_type": "stream",
     "text": [
      "Blue Ribbon Fried Chicken\n",
      "The Meatball Shop\n",
      "Shake Shack\n",
      "Blue Ribbon Sushi\n"
     ]
    }
   ],
   "source": [
    "# Making a list of the restaurants' names\n",
    "restaurants = list(df['restaurant_name'].unique())\n",
    "\n",
    "# The loop iterates on the name of restaurants and calculates the number of given ratings and their average,\n",
    "# and type them if they have met the condition for the promo.\n",
    "for text in restaurants:\n",
    "  rated_orders = df.loc[df['restaurant_name'] == text]['rating_num'].notnull().sum()\n",
    "  rating_avg = df.loc[df['restaurant_name'] == text]['rating_num'].mean()\n",
    "  if(rated_orders > 50 and rating_avg > 4):\n",
    "    print(text)\n",
    "  "
   ]
  },
  {
   "cell_type": "markdown",
   "metadata": {
    "id": "10uryUMhJY_V"
   },
   "source": [
    "#### Observations: \n",
    "Blue Ribbon Fried Chicken, Blue Ribbon Sushi, Shake Shack and The Meatball Shop are the only restaurants meeting the criteria for the propmotional offer. \n"
   ]
  },
  {
   "cell_type": "markdown",
   "metadata": {
    "id": "1gvWBkRUJY_V"
   },
   "source": [
    "### **Question 14:** The company charges the restaurant 25% on the orders having cost greater than 20 dollars and 15% on the orders having cost greater than 5 dollars. Find the net revenue generated by the company across all orders. [3 marks]"
   ]
  },
  {
   "cell_type": "code",
   "execution_count": 52,
   "metadata": {
    "colab": {
     "base_uri": "https://localhost:8080/"
    },
    "id": "rEjbnTNEJY_W",
    "outputId": "0aafb5ca-e28d-452d-af7a-3153e114e80d"
   },
   "outputs": [
    {
     "name": "stdout",
     "output_type": "stream",
     "text": [
      "Total revenue generated by FoodHub from this order list is $6166.3.\n"
     ]
    }
   ],
   "source": [
    "# Entries with cost over 20\n",
    "df1 = df.loc[df['cost_of_the_order'] > 20].reset_index(drop = True)\n",
    "# Entries with cost over 5 but not greater than 20\n",
    "df2 = df.loc[(df['cost_of_the_order'] > 5) & (df['cost_of_the_order'] <= 20)].reset_index(drop = True)\n",
    "\n",
    "# total revenue generated by FoodHub\n",
    "total_rev = df1['cost_of_the_order'].sum()*0.25 + df2['cost_of_the_order'].sum()*0.15\n",
    "\n",
    "print('Total revenue generated by FoodHub from this order list is $', round(total_rev, 2), sep = '', end = '.\\n') "
   ]
  },
  {
   "cell_type": "code",
   "execution_count": 53,
   "metadata": {
    "colab": {
     "base_uri": "https://localhost:8080/"
    },
    "id": "gfJq_inLxOjU",
    "outputId": "213f0146-b010-450e-e894-c14be6bec2c1"
   },
   "outputs": [
    {
     "name": "stdout",
     "output_type": "stream",
     "text": [
      "$6254.42\n"
     ]
    }
   ],
   "source": [
    "# What if company was charging a flat rate?\n",
    "\n",
    "revenue_flat_rate = (df1['cost_of_the_order'].sum() + df2['cost_of_the_order'].sum())*0.2\n",
    "print('$', round(revenue_flat_rate, 2), sep = '')"
   ]
  },
  {
   "cell_type": "markdown",
   "metadata": {
    "id": "XHCEJgH0JY_W"
   },
   "source": [
    "#### Observations: The company generates about 6200 USD from this order list. Slightly more revenue could've been generated in the case of charging a flat rate of 20%.\n"
   ]
  },
  {
   "cell_type": "markdown",
   "metadata": {
    "id": "pRlVW-oeJY_W"
   },
   "source": [
    "### **Question 15:** The company wants to analyze the total time required to deliver the food. What percentage of orders take more than 60 minutes to get delivered from the time the order is placed? (The food has to be prepared and then delivered.) [2 marks]"
   ]
  },
  {
   "cell_type": "code",
   "execution_count": 54,
   "metadata": {
    "colab": {
     "base_uri": "https://localhost:8080/"
    },
    "id": "zxoTrxfLJY_W",
    "outputId": "66fa6a20-aa9d-4d4d-bd2e-d6015daecd06"
   },
   "outputs": [
    {
     "name": "stdout",
     "output_type": "stream",
     "text": [
      "10.54%\n"
     ]
    }
   ],
   "source": [
    "# Recalling the total_time column created in multivariate analysis and finding out how much of that column exceeds 1 hour\n",
    "\n",
    "plus_1hr_orders = df.loc[df['total_time'] > 60].shape[0]\n",
    "\n",
    "print(round(plus_1hr_orders/df.shape[0]*100, 2), '%', sep = '')"
   ]
  },
  {
   "cell_type": "markdown",
   "metadata": {
    "id": "iqzBXn2yJY_W"
   },
   "source": [
    "#### Observations: About 10.5% of orders require more than one hour to be prepared and delivered.  \n"
   ]
  },
  {
   "cell_type": "markdown",
   "metadata": {
    "id": "bUd6cYpPJY_W"
   },
   "source": [
    "### **Question 16:** The company wants to analyze the delivery time of the orders on weekdays and weekends. How does the mean delivery time vary during weekdays and weekends? [2 marks]"
   ]
  },
  {
   "cell_type": "code",
   "execution_count": 55,
   "metadata": {
    "colab": {
     "base_uri": "https://localhost:8080/"
    },
    "id": "pIU5xZZ6JY_W",
    "outputId": "12a5da16-6ef0-4bf9-d6de-4e4feb12c7df"
   },
   "outputs": [
    {
     "name": "stdout",
     "output_type": "stream",
     "text": [
      "Weekend delivery is 5.87 minutes faster than weekday delivery.\n",
      "\n"
     ]
    },
    {
     "data": {
      "text/plain": [
       "day_of_the_week\n",
       "Weekday   28.34\n",
       "Weekend   22.47\n",
       "Name: delivery_time, dtype: float64"
      ]
     },
     "execution_count": 55,
     "metadata": {},
     "output_type": "execute_result"
    }
   ],
   "source": [
    "time_diff = df.groupby(['day_of_the_week'])['delivery_time'].mean()[0] - df.groupby(['day_of_the_week'])['delivery_time'].mean()[1]\n",
    "print('Weekend delivery is', round(time_diff, 2), 'minutes faster than weekday delivery.', end = '\\n'*2)\n",
    "df.groupby(['day_of_the_week'])['delivery_time'].mean()\n"
   ]
  },
  {
   "cell_type": "markdown",
   "metadata": {
    "id": "8H-ODxbVJY_W"
   },
   "source": [
    "#### Observations: The food delivery on weekdays is somewhat (~ 5.87 mins.) slower than weekends, which is expectable, due to the rush-hour traffick of the weekdays. "
   ]
  },
  {
   "cell_type": "markdown",
   "metadata": {
    "id": "17roJywaJY_W"
   },
   "source": [
    "### Conclusion and Recommendations"
   ]
  },
  {
   "cell_type": "markdown",
   "metadata": {
    "id": "ZdX2Wz4FJY_W"
   },
   "source": [
    "### **Question 17:** What are your conclusions from the analysis? What recommendations would you like to share to help improve the business? (You can use cuisine type and feedback ratings to drive your business recommendations.) [6 marks]"
   ]
  },
  {
   "cell_type": "markdown",
   "metadata": {
    "id": "VTugVsL4Ddz-"
   },
   "source": [
    "### Conclusions:\n",
    "\n",
    "\n",
    "1.   Vast majority of the customers (~ 65%) have used the app only once, and a big fraction (~ 28%) of restaurants have been requested only once.\n",
    "2.   However 39% of the orders haven't been rated (the most comon type of rating), from the rated orders we can deduce that customers are generally happy with the business, with the mean and median rating of the rated customers being equal to 4.34 and 5, respectively. \n",
    "3.   American, Japanese, Italian, Chinese and Mexican are respectively the top 5 requested cuisines, which, combined, account for more than 85% of the orders. On the other hand, Vietnamese, Spanish and Korean appear to be quite unpopular, together making up less than 2% of all orders.\n",
    "4. The top 10 revenue-generating restaurants account for ~ 47% of the orders. The cuisine types of these restaurants match the top 4 popular cuisines. \n",
    "5. While the distribution of food preparation time is fairly uniform, the distribution of the delivery time looks relatively left-skewed, indicating that the delivery process for most orders is somewhat slow and can certainly be improved.\n",
    "6. The distribution of the order cost is fairly right-skewed, with its median falling around 14 USD, suggesting that most customers go for cheap or medium-range-price restaurants/foods.\n",
    "7. The business is far more active on weekends. \n",
    "8. French and Thai are the most costly food types with their medians  being around 20 USD. Vietnamese and Korean are the least expensive cuisines, whose median order cost is about 12 USD. Other cuisines have median order costs close to each other and falling around 15 USD. \n",
    "9. There is no meaningful difference between the preparation times of different cuisines, as the median preparation time for all of them resides in the narrow range of 25 to 28 minutes. \n",
    "10. Food preparation time, delivery time and total time (prep. time + delivery time) seem to have little to no effect on the satisfaction of the customers (rating). Rating and cost are also almost uncorrelated.    \n",
    "\n"
   ]
  },
  {
   "cell_type": "markdown",
   "metadata": {
    "id": "PWnsI0i_guWJ"
   },
   "source": [
    "### Recommendations:\n",
    "\n",
    "\n",
    "1.   For about 10% of the orders, the preparation and delivery times together take more than one hour. This is mostly affected by the slow delivery process. The company can further localize restaurants by increasing the number of restaurants in its network, especially those that provide the more popular cuisines, so that the drive time from restaurants to customers' homes is drastically reduced. \n",
    "2. Most revenue is generated by a handful of very popular cuisines. The company should invest in bringing more restaurants providing those certain cuisines into its network, and pay less attention and spend less advertising and PR money on unpopular cuisines. This can turn out to be a two-pronged strategy that in addition to generating more revenue can further reduce the delivery time (by increasing the # of restaurants in the hub and further localizing them).  \n",
    "3. Since most orders cost moderate or low, a flat rate 20% charge of restaurants would generate more revenue for the company than the current bracket-based system (25% for orders above 20 USD and 15% for those above 5 USD). This is something to be studied by the company to ensure this idea doesn't repel the restaurants.  \n",
    "4. However the delivery process on the weekends is currently quite fast, since weekend orders comprise the vast majority of the business, the company should further ensure it has all logistics and infrastructure in place for the weekend, in particular, it should reassure it has enough delivery employees for this timespan.   \n",
    "5. At the moment, close to 40% of the customers do not rate the service they receive. Although the ratings are fairly high, more ratings and reviews would provide more valuable information for the company on the popular cuisines, restaurants, etc. It also affects the promo offers the restaurants might get. The company should provide customers with more incentives to input their ratings. For example, the app can send notificatins when the rating isn't entered a few hours after the order, or it can put the name of customers who rate all their orders in a monthly raffle that'd give one free meal each month to a few lucky customers.\n",
    "6. Only ~ 35% of the customers have used the app more than once in the timespan of gathering the dataset. This seems quite low. The company should incentivize the recurrent customers by offering them vouchers, discounts, etc. more than what is already considered. For instance, the top 1% customers who've rated all their orders would get one monthly free meal. This helps with the suggestion #5, too.  \n",
    "7. More than 1/3 of the orders come for only 5 restaurants. The company should ensure that it has enough delivery employees in the neighborhoods of those restaurants, if it hasn't done so already.     \n",
    "\n",
    "\n"
   ]
  },
  {
   "cell_type": "markdown",
   "metadata": {
    "id": "tSoucKKbg9Hc"
   },
   "source": [
    "---"
   ]
  }
 ],
 "metadata": {
  "colab": {
   "collapsed_sections": [],
   "name": "PYF_Project_LearnerNotebook_FullCode.ipynb",
   "provenance": []
  },
  "kernelspec": {
   "display_name": "Python 3 (ipykernel)",
   "language": "python",
   "name": "python3"
  },
  "language_info": {
   "codemirror_mode": {
    "name": "ipython",
    "version": 3
   },
   "file_extension": ".py",
   "mimetype": "text/x-python",
   "name": "python",
   "nbconvert_exporter": "python",
   "pygments_lexer": "ipython3",
   "version": "3.9.7"
  }
 },
 "nbformat": 4,
 "nbformat_minor": 1
}
